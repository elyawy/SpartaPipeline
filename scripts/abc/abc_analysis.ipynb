{
 "cells": [
  {
   "cell_type": "code",
   "execution_count": 1,
   "metadata": {},
   "outputs": [],
   "source": [
    "import pathlib\n",
    "import pandas as pd\n",
    "import matplotlib.pyplot as plt\n",
    "from Bio import Phylo"
   ]
  },
  {
   "cell_type": "code",
   "execution_count": 2,
   "metadata": {},
   "outputs": [],
   "source": [
    "from itertools import chain\n",
    "dataset = \"Data\"\n",
    "\n",
    "all_outputs_path = pathlib.Path(pathlib.Path.home(),dataset).resolve()\n",
    "# all_outputs_path = chain(all_outputs_path.glob(\"*Primates*\"),all_outputs_path.glob(\"*Rodent*\"))\n",
    "\n",
    "all_outputs_path = list(all_outputs_path.iterdir())\n",
    "\n"
   ]
  },
  {
   "cell_type": "code",
   "execution_count": 3,
   "metadata": {},
   "outputs": [],
   "source": [
    "# all_outputs_path = pathlib.Path(\"../all_outputs/results_rerun\",dataset).resolve()\n",
    "all_outputs_path = [folder for folder in all_outputs_path if (folder / \"epsilon.csv\").exists()]\n",
    "\n",
    "\n",
    "# sum_branches = []\n",
    "# filtered_outputs_path = []\n",
    "# for dir_name in all_outputs_path:\n",
    "#     tree_path = (dir_name / f\"{dir_name.stem}_NT.tree\").resolve()\n",
    "#     tree = Phylo.read(tree_path, 'newick')\n",
    "#     sum_branch_lengths = tree.total_branch_length()\n",
    "#     if sum_branch_lengths > 7:\n",
    "#         sum_branches.append(sum_branch_lengths)\n",
    "#         filtered_outputs_path.append(dir_name)\n",
    "\n",
    "# all_outputs_path = filtered_outputs_path\n",
    "\n",
    "abc_winner = []\n",
    "duplicate_count = 0\n",
    "for dir_name in all_outputs_path:\n",
    "    epsilon_results = pathlib.Path(dir_name, \"epsilon.csv\")\n",
    "    temp_df = pd.read_csv(epsilon_results, index_col=0)\n",
    "    temp_df = temp_df.fillna(0.0).astype('float')\n",
    "    def get_max(x):\n",
    "        sorted_x = x.sort_values(ascending=False)\n",
    "        if len(sorted_x) == 1 or sorted_x[0] > sorted_x[1]:\n",
    "            return sorted_x.index[0]\n",
    "        if len(sorted_x) == 2 or sorted_x[1] > sorted_x[2]:\n",
    "            return \",\".join(sorted(sorted_x.index[:2]))\n",
    "        return \",\".join(sorted_x.index)\n",
    "    abc_winner.append(temp_df.apply(get_max, axis=0))"
   ]
  },
  {
   "cell_type": "code",
   "execution_count": 4,
   "metadata": {},
   "outputs": [
    {
     "data": {
      "text/html": [
       "<div>\n",
       "<style scoped>\n",
       "    .dataframe tbody tr th:only-of-type {\n",
       "        vertical-align: middle;\n",
       "    }\n",
       "\n",
       "    .dataframe tbody tr th {\n",
       "        vertical-align: top;\n",
       "    }\n",
       "\n",
       "    .dataframe thead th {\n",
       "        text-align: right;\n",
       "    }\n",
       "</style>\n",
       "<table border=\"1\" class=\"dataframe\">\n",
       "  <thead>\n",
       "    <tr style=\"text-align: right;\">\n",
       "      <th></th>\n",
       "      <th>ENSG00000180305_WFDC10A</th>\n",
       "      <th>ENSG00000002933_TMEM176A</th>\n",
       "      <th>Bacillus_1ZARG</th>\n",
       "      <th>ENSG00000283758_PMIS2</th>\n",
       "      <th>ENSG00000005007_UPF1</th>\n",
       "    </tr>\n",
       "  </thead>\n",
       "  <tbody>\n",
       "    <tr>\n",
       "      <th>10</th>\n",
       "      <td>poisson</td>\n",
       "      <td>geometric</td>\n",
       "      <td>zipf</td>\n",
       "      <td>geometric</td>\n",
       "      <td>zipf</td>\n",
       "    </tr>\n",
       "    <tr>\n",
       "      <th>25</th>\n",
       "      <td>poisson</td>\n",
       "      <td>geometric</td>\n",
       "      <td>zipf</td>\n",
       "      <td>geometric</td>\n",
       "      <td>zipf</td>\n",
       "    </tr>\n",
       "    <tr>\n",
       "      <th>50</th>\n",
       "      <td>poisson</td>\n",
       "      <td>geometric</td>\n",
       "      <td>zipf</td>\n",
       "      <td>geometric</td>\n",
       "      <td>zipf</td>\n",
       "    </tr>\n",
       "    <tr>\n",
       "      <th>100</th>\n",
       "      <td>poisson</td>\n",
       "      <td>geometric</td>\n",
       "      <td>zipf</td>\n",
       "      <td>geometric</td>\n",
       "      <td>zipf</td>\n",
       "    </tr>\n",
       "    <tr>\n",
       "      <th>250</th>\n",
       "      <td>poisson</td>\n",
       "      <td>geometric</td>\n",
       "      <td>zipf</td>\n",
       "      <td>geometric</td>\n",
       "      <td>zipf</td>\n",
       "    </tr>\n",
       "    <tr>\n",
       "      <th>500</th>\n",
       "      <td>poisson</td>\n",
       "      <td>geometric</td>\n",
       "      <td>zipf</td>\n",
       "      <td>geometric</td>\n",
       "      <td>zipf</td>\n",
       "    </tr>\n",
       "    <tr>\n",
       "      <th>1000</th>\n",
       "      <td>poisson</td>\n",
       "      <td>geometric</td>\n",
       "      <td>zipf</td>\n",
       "      <td>geometric</td>\n",
       "      <td>zipf</td>\n",
       "    </tr>\n",
       "  </tbody>\n",
       "</table>\n",
       "</div>"
      ],
      "text/plain": [
       "     ENSG00000180305_WFDC10A ENSG00000002933_TMEM176A Bacillus_1ZARG  \\\n",
       "10                   poisson                geometric           zipf   \n",
       "25                   poisson                geometric           zipf   \n",
       "50                   poisson                geometric           zipf   \n",
       "100                  poisson                geometric           zipf   \n",
       "250                  poisson                geometric           zipf   \n",
       "500                  poisson                geometric           zipf   \n",
       "1000                 poisson                geometric           zipf   \n",
       "\n",
       "     ENSG00000283758_PMIS2 ENSG00000005007_UPF1  \n",
       "10               geometric                 zipf  \n",
       "25               geometric                 zipf  \n",
       "50               geometric                 zipf  \n",
       "100              geometric                 zipf  \n",
       "250              geometric                 zipf  \n",
       "500              geometric                 zipf  \n",
       "1000             geometric                 zipf  "
      ]
     },
     "execution_count": 4,
     "metadata": {},
     "output_type": "execute_result"
    }
   ],
   "source": [
    "new_df  = pd.concat(abc_winner, axis=1)\n",
    "new_df.columns = [i.stem for i in all_outputs_path]\n",
    "new_df"
   ]
  },
  {
   "cell_type": "code",
   "execution_count": 5,
   "metadata": {},
   "outputs": [
    {
     "data": {
      "text/html": [
       "<div>\n",
       "<style scoped>\n",
       "    .dataframe tbody tr th:only-of-type {\n",
       "        vertical-align: middle;\n",
       "    }\n",
       "\n",
       "    .dataframe tbody tr th {\n",
       "        vertical-align: top;\n",
       "    }\n",
       "\n",
       "    .dataframe thead th {\n",
       "        text-align: right;\n",
       "    }\n",
       "</style>\n",
       "<table border=\"1\" class=\"dataframe\">\n",
       "  <thead>\n",
       "    <tr style=\"text-align: right;\">\n",
       "      <th></th>\n",
       "      <th>geometric</th>\n",
       "      <th>zipf</th>\n",
       "      <th>poisson</th>\n",
       "    </tr>\n",
       "  </thead>\n",
       "  <tbody>\n",
       "    <tr>\n",
       "      <th>10</th>\n",
       "      <td>2</td>\n",
       "      <td>2</td>\n",
       "      <td>1</td>\n",
       "    </tr>\n",
       "    <tr>\n",
       "      <th>25</th>\n",
       "      <td>2</td>\n",
       "      <td>2</td>\n",
       "      <td>1</td>\n",
       "    </tr>\n",
       "    <tr>\n",
       "      <th>50</th>\n",
       "      <td>2</td>\n",
       "      <td>2</td>\n",
       "      <td>1</td>\n",
       "    </tr>\n",
       "    <tr>\n",
       "      <th>100</th>\n",
       "      <td>2</td>\n",
       "      <td>2</td>\n",
       "      <td>1</td>\n",
       "    </tr>\n",
       "    <tr>\n",
       "      <th>250</th>\n",
       "      <td>2</td>\n",
       "      <td>2</td>\n",
       "      <td>1</td>\n",
       "    </tr>\n",
       "    <tr>\n",
       "      <th>500</th>\n",
       "      <td>2</td>\n",
       "      <td>2</td>\n",
       "      <td>1</td>\n",
       "    </tr>\n",
       "    <tr>\n",
       "      <th>1000</th>\n",
       "      <td>2</td>\n",
       "      <td>2</td>\n",
       "      <td>1</td>\n",
       "    </tr>\n",
       "  </tbody>\n",
       "</table>\n",
       "</div>"
      ],
      "text/plain": [
       "      geometric  zipf  poisson\n",
       "10            2     2        1\n",
       "25            2     2        1\n",
       "50            2     2        1\n",
       "100           2     2        1\n",
       "250           2     2        1\n",
       "500           2     2        1\n",
       "1000          2     2        1"
      ]
     },
     "execution_count": 5,
     "metadata": {},
     "output_type": "execute_result"
    }
   ],
   "source": [
    "summary_res = new_df.apply(lambda x: x.value_counts(), axis=1)\n",
    "summary_res = summary_res.fillna(0)\n",
    "summary_res\n"
   ]
  },
  {
   "cell_type": "code",
   "execution_count": 6,
   "metadata": {},
   "outputs": [
    {
     "data": {
      "image/png": "[encoded data removed]",
      "text/plain": [
       "<Figure size 432x288 with 1 Axes>"
      ]
     },
     "metadata": {
      "needs_background": "light"
     },
     "output_type": "display_data"
    }
   ],
   "source": [
    "# summary_res.to_csv(f\"true_epsilon_summary_{dataset}.csv\")\n",
    "ax = summary_res.plot(kind=\"bar\")\n",
    "ax.legend(bbox_to_anchor=(1.00, 1.03))\n",
    "plt.show()\n",
    "# plt.savefig(f\"true_epsilon_summary_{dataset}.png\", bbox_inches=\"tight\", dpi=200)"
   ]
  }
 ],
 "metadata": {
  "kernelspec": {
   "display_name": "Python 3.8.10 ('buildenv')",
   "language": "python",
   "name": "python3"
  },
  "language_info": {
   "codemirror_mode": {
    "name": "ipython",
    "version": 3
   },
   "file_extension": ".py",
   "mimetype": "text/x-python",
   "name": "python",
   "nbconvert_exporter": "python",
   "pygments_lexer": "ipython3",
   "version": "3.8.10"
  },
  "orig_nbformat": 4,
  "vscode": {
   "interpreter": {
    "hash": "398e45b7d84ae35f48af605ecb772ac88a2918d076ea8eee11b2c6e93d61b47a"
   }
  }
 },
 "nbformat": 4,
 "nbformat_minor": 2
}
