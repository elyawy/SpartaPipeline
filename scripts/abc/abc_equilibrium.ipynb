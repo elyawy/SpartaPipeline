{
 "cells": [
  {
   "cell_type": "code",
   "execution_count": 1,
   "metadata": {},
   "outputs": [],
   "source": [
    "import pathlib\n",
    "from itertools import chain, product\n",
    "\n",
    "import pandas as pd\n",
    "import matplotlib.pyplot as plt\n",
    "from Bio import Phylo\n",
    "from elyawy.constants import length_distributions, indel_models\n",
    "\n",
    "plt.style.use('seaborn-v0_8-colorblind')\n",
    "\n",
    "all_models = tuple(\"_\".join(i) for i in (product(length_distributions, indel_models)))"
   ]
  },
  {
   "cell_type": "code",
   "execution_count": 2,
   "metadata": {},
   "outputs": [],
   "source": [
    "dataset = 'other_tests/benchmark'\n",
    "corrected = True\n",
    "REMOTE_PATH = pathlib.Path(\"/run/user/1000/gvfs/sftp:host=power.tau.ac.il,user=elyawygoda/groups/pupko/elyawygoda/length_distributions/all_outputs/results_rerun/\").resolve() # sys.argv[2]\n",
    "REMOTE_PATH = REMOTE_PATH / dataset\n",
    "all_outputs_path = pathlib.Path(REMOTE_PATH).resolve()\n",
    "# all_outputs_path = chain(all_outputs_path.glob(\"*Primates*\"),all_outputs_path.glob(\"*Rodent*\"))\n",
    "\n",
    "all_outputs_path = list(all_outputs_path.iterdir())\n"
   ]
  },
  {
   "cell_type": "code",
   "execution_count": 69,
   "metadata": {},
   "outputs": [
    {
     "data": {
      "text/plain": [
       "8"
      ]
     },
     "execution_count": 69,
     "metadata": {},
     "output_type": "execute_result"
    }
   ],
   "source": [
    "len(all_outputs_path)"
   ]
  },
  {
   "cell_type": "code",
   "execution_count": 73,
   "metadata": {},
   "outputs": [],
   "source": [
    "benchmark_df = pd.read_csv(all_outputs_path[0] / \"benchmark_100.csv\", index_col=0)\n",
    "benchmark_df = benchmark_df.T"
   ]
  },
  {
   "cell_type": "code",
   "execution_count": 74,
   "metadata": {},
   "outputs": [],
   "source": [
    "new_header = benchmark_df.iloc[0] #grab the first row for the header\n",
    "benchmark_df = benchmark_df[1:] #take the data less the header row\n",
    "benchmark_df.columns = new_header #set the header row as the df header"
   ]
  },
  {
   "cell_type": "code",
   "execution_count": 75,
   "metadata": {},
   "outputs": [
    {
     "data": {
      "text/html": [
       "<div>\n",
       "<style scoped>\n",
       "    .dataframe tbody tr th:only-of-type {\n",
       "        vertical-align: middle;\n",
       "    }\n",
       "\n",
       "    .dataframe tbody tr th {\n",
       "        vertical-align: top;\n",
       "    }\n",
       "\n",
       "    .dataframe thead th {\n",
       "        text-align: right;\n",
       "    }\n",
       "</style>\n",
       "<table border=\"1\" class=\"dataframe\">\n",
       "  <thead>\n",
       "    <tr style=\"text-align: right;\">\n",
       "      <th>model</th>\n",
       "      <th>zipf</th>\n",
       "      <th>geometric</th>\n",
       "      <th>poisson</th>\n",
       "    </tr>\n",
       "  </thead>\n",
       "  <tbody>\n",
       "    <tr>\n",
       "      <th>6000</th>\n",
       "      <td>0.15</td>\n",
       "      <td>0.09</td>\n",
       "      <td>0.76</td>\n",
       "    </tr>\n",
       "    <tr>\n",
       "      <th>30000</th>\n",
       "      <td>0.26</td>\n",
       "      <td>0.26</td>\n",
       "      <td>0.48</td>\n",
       "    </tr>\n",
       "    <tr>\n",
       "      <th>60000</th>\n",
       "      <td>0.36</td>\n",
       "      <td>0.43</td>\n",
       "      <td>0.21</td>\n",
       "    </tr>\n",
       "    <tr>\n",
       "      <th>150000</th>\n",
       "      <td>0.47</td>\n",
       "      <td>0.46</td>\n",
       "      <td>0.07</td>\n",
       "    </tr>\n",
       "    <tr>\n",
       "      <th>300000</th>\n",
       "      <td>0.57</td>\n",
       "      <td>0.43</td>\n",
       "      <td>0.0</td>\n",
       "    </tr>\n",
       "    <tr>\n",
       "      <th>600000</th>\n",
       "      <td>0.57</td>\n",
       "      <td>0.43</td>\n",
       "      <td>0.0</td>\n",
       "    </tr>\n",
       "    <tr>\n",
       "      <th>1500000</th>\n",
       "      <td>0.75</td>\n",
       "      <td>0.24</td>\n",
       "      <td>0.01</td>\n",
       "    </tr>\n",
       "    <tr>\n",
       "      <th>3000000</th>\n",
       "      <td>0.66</td>\n",
       "      <td>0.34</td>\n",
       "      <td>0.0</td>\n",
       "    </tr>\n",
       "    <tr>\n",
       "      <th>6000000</th>\n",
       "      <td>0.61</td>\n",
       "      <td>0.39</td>\n",
       "      <td>0.0</td>\n",
       "    </tr>\n",
       "  </tbody>\n",
       "</table>\n",
       "</div>"
      ],
      "text/plain": [
       "model    zipf geometric poisson\n",
       "6000     0.15      0.09    0.76\n",
       "30000    0.26      0.26    0.48\n",
       "60000    0.36      0.43    0.21\n",
       "150000   0.47      0.46    0.07\n",
       "300000   0.57      0.43     0.0\n",
       "600000   0.57      0.43     0.0\n",
       "1500000  0.75      0.24    0.01\n",
       "3000000  0.66      0.34     0.0\n",
       "6000000  0.61      0.39     0.0"
      ]
     },
     "execution_count": 75,
     "metadata": {},
     "output_type": "execute_result"
    }
   ],
   "source": [
    "benchmark_df.index = (benchmark_df.index.astype(int)*len(all_models)).astype(str)\n",
    "benchmark_df.index = [for x in ]"
   ]
  },
  {
   "cell_type": "code",
   "execution_count": null,
   "metadata": {},
   "outputs": [],
   "source": [
    "label_size = 14\n",
    "\n",
    "fig, ax = plt.subplots(figsize=(10, 5))\n",
    "ax.plot\n",
    "ax.plot(benchmark_df, linewidth=4, label=benchmark_df.columns, )\n",
    "plt.xlabel(\"Number of simulated MSAs ($n_s$)\", fontsize=label_size)\n",
    "plt.ylabel(\"Fraction of each model when $n_i=100$\", fontsize=label_size)\n",
    "# print(['{:,}'.format(int(x[2])) for x in ax.get_xmajorticklabels()])\n",
    "\n",
    "# ax.set_xticklabels(['{:,}'.format(int(x)) for x in ax.get_xticks()])\n",
    "plt.legend(bbox_to_anchor=(0.5, 1.15), loc=\"upper center\" , ncol=len(benchmark_df.columns), fontsize=16)\n",
    "\n",
    "plt.savefig(\"/home/elyalab/Documents/Phd/length distributions/assets/equilibrium.svg\",bbox_inches=\"tight\", dpi=200)\n",
    "plt.show()"
   ]
  },
  {
   "cell_type": "code",
   "execution_count": 95,
   "metadata": {},
   "outputs": [],
   "source": [
    "ax.get_xmajorticklabels()[0].set_text(format(int(ax.get_xmajorticklabels()[0].get_text()),\",\"))"
   ]
  },
  {
   "cell_type": "code",
   "execution_count": 97,
   "metadata": {},
   "outputs": [
    {
     "data": {
      "text/plain": [
       "'6000'"
      ]
     },
     "execution_count": 97,
     "metadata": {},
     "output_type": "execute_result"
    }
   ],
   "source": [
    "ax.get_xmajorticklabels()[0].get_text()"
   ]
  }
 ],
 "metadata": {
  "kernelspec": {
   "display_name": "Python 3.10.6 ('work')",
   "language": "python",
   "name": "python3"
  },
  "language_info": {
   "codemirror_mode": {
    "name": "ipython",
    "version": 3
   },
   "file_extension": ".py",
   "mimetype": "text/x-python",
   "name": "python",
   "nbconvert_exporter": "python",
   "pygments_lexer": "ipython3",
   "version": "3.10.6"
  },
  "orig_nbformat": 4,
  "vscode": {
   "interpreter": {
    "hash": "116670b2f161a8130f157034528fb6f1b6c34a8fe2503f648b685473f81f6b22"
   }
  }
 },
 "nbformat": 4,
 "nbformat_minor": 2
}
