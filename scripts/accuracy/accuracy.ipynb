{
 "cells": [
  {
   "cell_type": "code",
   "execution_count": 1,
   "metadata": {},
   "outputs": [],
   "source": [
    "import pathlib, copy, re, pickle\n",
    "from itertools import product\n",
    "import numpy as np\n",
    "import pandas as pd\n",
    "from scipy import stats\n",
    "from sklearn.metrics import accuracy_score\n",
    "import matplotlib.pyplot as plt\n",
    "plt.style.use('seaborn-v0_8')\n",
    "import matplotlib.ticker as mtick\n",
    "import seaborn as sns\n",
    "from Bio import Phylo\n",
    "from elyawy.constants import SUMSTATS_LIST, SUMSTATS_DEFINITION, length_distributions\n",
    "from elyawy.sparta import Msa"
   ]
  },
  {
   "cell_type": "code",
   "execution_count": 2,
   "metadata": {},
   "outputs": [],
   "source": [
    "def get_total_accuracy(datasets: list[str], path: pathlib.Path, epsilon: int) -> pd.DataFrame:\n",
    "    total_accuracy = []\n",
    "    for current_data in datasets:\n",
    "        MAIN_PATH = path / current_data\n",
    "        print(MAIN_PATH)\n",
    "        if not MAIN_PATH.exists():\n",
    "            exit(1)\n",
    "\n",
    "        for dataset in MAIN_PATH.iterdir():\n",
    "            current_file = dataset / f\"simulation_results_{epsilon}_500000.csv\"\n",
    "            if not current_file.exists():\n",
    "                # print(dataset.stem)\n",
    "                continue\n",
    "            simulation_results_df = pd.read_csv(current_file)\n",
    "            classification_accuracy = accuracy_score(simulation_results_df[\"true_dists\"],\n",
    "                                                     simulation_results_df[\"predicted\"])\n",
    "\n",
    "            total_accuracy.append((classification_accuracy, dataset.stem, current_data))\n",
    "\n",
    "    accuracy_df = pd.DataFrame(total_accuracy)\n",
    "    return accuracy_df"
   ]
  },
  {
   "cell_type": "code",
   "execution_count": 3,
   "metadata": {},
   "outputs": [],
   "source": [
    "# n_i_values = [1, 2, 3, 4, 5, 10, 25, 50, 100, 200, 500, 1000]\n",
    "n_i_values = [10, 100, 1000]\n",
    "\n",
    "THRESHOLD = 100"
   ]
  },
  {
   "cell_type": "code",
   "execution_count": 4,
   "metadata": {},
   "outputs": [
    {
     "name": "stdout",
     "output_type": "stream",
     "text": [
      "/run/user/1000/gvfs/sftp:host=power.tau.ac.il,user=elyawygoda/groups/pupko/elyawygoda/length_distributions/all_outputs/results/eggnog\n",
      "/run/user/1000/gvfs/sftp:host=power.tau.ac.il,user=elyawygoda/groups/pupko/elyawygoda/length_distributions/all_outputs/results/yeast\n",
      "/run/user/1000/gvfs/sftp:host=power.tau.ac.il,user=elyawygoda/groups/pupko/elyawygoda/length_distributions/all_outputs/results/eggnog\n",
      "/run/user/1000/gvfs/sftp:host=power.tau.ac.il,user=elyawygoda/groups/pupko/elyawygoda/length_distributions/all_outputs/results/yeast\n",
      "/run/user/1000/gvfs/sftp:host=power.tau.ac.il,user=elyawygoda/groups/pupko/elyawygoda/length_distributions/all_outputs/results/eggnog\n",
      "/run/user/1000/gvfs/sftp:host=power.tau.ac.il,user=elyawygoda/groups/pupko/elyawygoda/length_distributions/all_outputs/results/yeast\n"
     ]
    }
   ],
   "source": [
    "# REMOTE_PATH = '''/run/user/1000/kio-fuse-JIExvn/sftp/elyawygoda@powerlogin.tau.ac.il:22\n",
    "#                  /groups/pupko/elyawygoda/length_distributions/all_outputs/results'''\n",
    "REMOTE_PATH = '''/run/user/1000/gvfs/sftp:host=power.tau.ac.il,user=\n",
    "                 elyawygoda/groups/pupko/elyawygoda/length_distributions/all_outputs/results/'''\n",
    "\n",
    "REMOTE_PATH = re.sub(r\"\\n\\s*\", \"\", REMOTE_PATH)\n",
    "REMOTE_PATH = pathlib.Path(REMOTE_PATH).resolve()\n",
    "datasets = [\"eggnog\", \"yeast\"]\n",
    "n_i_accuracy: dict[int: pd.DataFrame] = {}\n",
    "for n_i in n_i_values:\n",
    "    n_i_accuracy[n_i] = get_total_accuracy(datasets, REMOTE_PATH, n_i)"
   ]
  },
  {
   "cell_type": "code",
   "execution_count": 5,
   "metadata": {},
   "outputs": [],
   "source": [
    "accuracy_summary = pd.DataFrame(columns=n_i_accuracy[100].describe().index)\n",
    "for n_i in n_i_values:\n",
    "    n_i_accuracy[n_i].columns = [\"accuracy\", \"dataset\",\"database\"]\n",
    "    # n_i_accuracy[n_i].to_csv(f\"accuracies/total_accuracy_{n_i}.csv\")\n",
    "    accuracy_stats = n_i_accuracy[n_i].describe().T\n",
    "    accuracy_summary = pd.concat([accuracy_summary, accuracy_stats])"
   ]
  },
  {
   "cell_type": "code",
   "execution_count": 6,
   "metadata": {},
   "outputs": [],
   "source": [
    "for key,val in n_i_accuracy.items():\n",
    "    val[\"n_i\"] = key\n",
    "n_i_df = pd.concat(n_i_accuracy).reset_index(drop=True)\n",
    "n_i_df.to_csv(\"assets/total_accuracies.csv\", index=False)"
   ]
  },
  {
   "cell_type": "code",
   "execution_count": 7,
   "metadata": {},
   "outputs": [
    {
     "data": {
      "text/html": [
       "<div>\n",
       "<style scoped>\n",
       "    .dataframe tbody tr th:only-of-type {\n",
       "        vertical-align: middle;\n",
       "    }\n",
       "\n",
       "    .dataframe tbody tr th {\n",
       "        vertical-align: top;\n",
       "    }\n",
       "\n",
       "    .dataframe thead th {\n",
       "        text-align: right;\n",
       "    }\n",
       "</style>\n",
       "<table border=\"1\" class=\"dataframe\">\n",
       "  <thead>\n",
       "    <tr style=\"text-align: right;\">\n",
       "      <th></th>\n",
       "      <th>accuracy</th>\n",
       "      <th>dataset</th>\n",
       "      <th>database</th>\n",
       "      <th>n_i</th>\n",
       "    </tr>\n",
       "  </thead>\n",
       "  <tbody>\n",
       "    <tr>\n",
       "      <th>0</th>\n",
       "      <td>0.980000</td>\n",
       "      <td>Bacillus_1ZARG</td>\n",
       "      <td>eggnog</td>\n",
       "      <td>100</td>\n",
       "    </tr>\n",
       "    <tr>\n",
       "      <th>1</th>\n",
       "      <td>0.976667</td>\n",
       "      <td>Bacillus_1ZART</td>\n",
       "      <td>eggnog</td>\n",
       "      <td>100</td>\n",
       "    </tr>\n",
       "    <tr>\n",
       "      <th>2</th>\n",
       "      <td>0.990000</td>\n",
       "      <td>Bacillus_1ZAS4</td>\n",
       "      <td>eggnog</td>\n",
       "      <td>100</td>\n",
       "    </tr>\n",
       "    <tr>\n",
       "      <th>3</th>\n",
       "      <td>0.990000</td>\n",
       "      <td>Bacillus_1ZAXF</td>\n",
       "      <td>eggnog</td>\n",
       "      <td>100</td>\n",
       "    </tr>\n",
       "    <tr>\n",
       "      <th>4</th>\n",
       "      <td>0.986667</td>\n",
       "      <td>Bacillus_1ZAYH</td>\n",
       "      <td>eggnog</td>\n",
       "      <td>100</td>\n",
       "    </tr>\n",
       "    <tr>\n",
       "      <th>...</th>\n",
       "      <td>...</td>\n",
       "      <td>...</td>\n",
       "      <td>...</td>\n",
       "      <td>...</td>\n",
       "    </tr>\n",
       "    <tr>\n",
       "      <th>478</th>\n",
       "      <td>1.000000</td>\n",
       "      <td>seqal_chrXVI_282140-282664_+_YPL143W</td>\n",
       "      <td>yeast</td>\n",
       "      <td>100</td>\n",
       "    </tr>\n",
       "    <tr>\n",
       "      <th>479</th>\n",
       "      <td>0.996667</td>\n",
       "      <td>seqal_chrXVI_377993-378386_-_YPL090C</td>\n",
       "      <td>yeast</td>\n",
       "      <td>100</td>\n",
       "    </tr>\n",
       "    <tr>\n",
       "      <th>480</th>\n",
       "      <td>0.990000</td>\n",
       "      <td>seqal_chrXVI_406644-407064_+_YPL079W</td>\n",
       "      <td>yeast</td>\n",
       "      <td>100</td>\n",
       "    </tr>\n",
       "    <tr>\n",
       "      <th>481</th>\n",
       "      <td>0.996667</td>\n",
       "      <td>seqal_chrXVI_654165-654567_+_YPR043W</td>\n",
       "      <td>yeast</td>\n",
       "      <td>100</td>\n",
       "    </tr>\n",
       "    <tr>\n",
       "      <th>482</th>\n",
       "      <td>1.000000</td>\n",
       "      <td>seqal_chrXVI_795026-795390_+_YPR132W</td>\n",
       "      <td>yeast</td>\n",
       "      <td>100</td>\n",
       "    </tr>\n",
       "  </tbody>\n",
       "</table>\n",
       "<p>483 rows × 4 columns</p>\n",
       "</div>"
      ],
      "text/plain": [
       "     accuracy                               dataset database  n_i\n",
       "0    0.980000                        Bacillus_1ZARG   eggnog  100\n",
       "1    0.976667                        Bacillus_1ZART   eggnog  100\n",
       "2    0.990000                        Bacillus_1ZAS4   eggnog  100\n",
       "3    0.990000                        Bacillus_1ZAXF   eggnog  100\n",
       "4    0.986667                        Bacillus_1ZAYH   eggnog  100\n",
       "..        ...                                   ...      ...  ...\n",
       "478  1.000000  seqal_chrXVI_282140-282664_+_YPL143W    yeast  100\n",
       "479  0.996667  seqal_chrXVI_377993-378386_-_YPL090C    yeast  100\n",
       "480  0.990000  seqal_chrXVI_406644-407064_+_YPL079W    yeast  100\n",
       "481  0.996667  seqal_chrXVI_654165-654567_+_YPR043W    yeast  100\n",
       "482  1.000000  seqal_chrXVI_795026-795390_+_YPR132W    yeast  100\n",
       "\n",
       "[483 rows x 4 columns]"
      ]
     },
     "execution_count": 7,
     "metadata": {},
     "output_type": "execute_result"
    }
   ],
   "source": [
    "n_i_accuracy[THRESHOLD]"
   ]
  },
  {
   "cell_type": "code",
   "execution_count": 8,
   "metadata": {},
   "outputs": [
    {
     "data": {
      "text/plain": [
       "<matplotlib.collections.PathCollection at 0x7fa55dfe19c0>"
      ]
     },
     "execution_count": 8,
     "metadata": {},
     "output_type": "execute_result"
    },
    {
     "data": {
      "image/png": "[encoded data removed]",
      "text/plain": [
       "<Figure size 800x550 with 1 Axes>"
      ]
     },
     "metadata": {},
     "output_type": "display_data"
    }
   ],
   "source": [
    "plt.scatter(x=n_i_df.n_i, y=n_i_df.accuracy)"
   ]
  },
  {
   "cell_type": "code",
   "execution_count": 9,
   "metadata": {},
   "outputs": [],
   "source": [
    "accuracy_summary.index = n_i_values"
   ]
  },
  {
   "cell_type": "code",
   "execution_count": 12,
   "metadata": {},
   "outputs": [
    {
     "data": {
      "text/html": [
       "<div>\n",
       "<style scoped>\n",
       "    .dataframe tbody tr th:only-of-type {\n",
       "        vertical-align: middle;\n",
       "    }\n",
       "\n",
       "    .dataframe tbody tr th {\n",
       "        vertical-align: top;\n",
       "    }\n",
       "\n",
       "    .dataframe thead th {\n",
       "        text-align: right;\n",
       "    }\n",
       "</style>\n",
       "<table border=\"1\" class=\"dataframe\">\n",
       "  <thead>\n",
       "    <tr style=\"text-align: right;\">\n",
       "      <th></th>\n",
       "      <th>count</th>\n",
       "      <th>mean</th>\n",
       "      <th>std</th>\n",
       "      <th>min</th>\n",
       "      <th>25%</th>\n",
       "      <th>50%</th>\n",
       "      <th>75%</th>\n",
       "      <th>max</th>\n",
       "    </tr>\n",
       "  </thead>\n",
       "  <tbody>\n",
       "    <tr>\n",
       "      <th>10</th>\n",
       "      <td>483.0</td>\n",
       "      <td>0.990566</td>\n",
       "      <td>0.013320</td>\n",
       "      <td>0.920000</td>\n",
       "      <td>0.986667</td>\n",
       "      <td>0.996667</td>\n",
       "      <td>1.00</td>\n",
       "      <td>1.0</td>\n",
       "    </tr>\n",
       "    <tr>\n",
       "      <th>100</th>\n",
       "      <td>483.0</td>\n",
       "      <td>0.983692</td>\n",
       "      <td>0.019453</td>\n",
       "      <td>0.916667</td>\n",
       "      <td>0.973333</td>\n",
       "      <td>0.993333</td>\n",
       "      <td>1.00</td>\n",
       "      <td>1.0</td>\n",
       "    </tr>\n",
       "    <tr>\n",
       "      <th>1000</th>\n",
       "      <td>483.0</td>\n",
       "      <td>0.963520</td>\n",
       "      <td>0.032844</td>\n",
       "      <td>0.856667</td>\n",
       "      <td>0.943333</td>\n",
       "      <td>0.973333</td>\n",
       "      <td>0.99</td>\n",
       "      <td>1.0</td>\n",
       "    </tr>\n",
       "  </tbody>\n",
       "</table>\n",
       "</div>"
      ],
      "text/plain": [
       "      count      mean       std       min       25%       50%   75%  max\n",
       "10    483.0  0.990566  0.013320  0.920000  0.986667  0.996667  1.00  1.0\n",
       "100   483.0  0.983692  0.019453  0.916667  0.973333  0.993333  1.00  1.0\n",
       "1000  483.0  0.963520  0.032844  0.856667  0.943333  0.973333  0.99  1.0"
      ]
     },
     "execution_count": 12,
     "metadata": {},
     "output_type": "execute_result"
    }
   ],
   "source": [
    "accuracy_summary"
   ]
  },
  {
   "cell_type": "code",
   "execution_count": 11,
   "metadata": {},
   "outputs": [
    {
     "data": {
      "text/plain": [
       "<AxesSubplot: >"
      ]
     },
     "execution_count": 11,
     "metadata": {},
     "output_type": "execute_result"
    },
    {
     "data": {
      "image/png": "[encoded data removed]",
      "text/plain": [
       "<Figure size 800x550 with 1 Axes>"
      ]
     },
     "metadata": {},
     "output_type": "display_data"
    }
   ],
   "source": [
    "accuracy_summary[\"min\"].plot()"
   ]
  },
  {
   "cell_type": "code",
   "execution_count": 13,
   "metadata": {},
   "outputs": [
    {
     "data": {
      "text/html": [
       "<div>\n",
       "<style scoped>\n",
       "    .dataframe tbody tr th:only-of-type {\n",
       "        vertical-align: middle;\n",
       "    }\n",
       "\n",
       "    .dataframe tbody tr th {\n",
       "        vertical-align: top;\n",
       "    }\n",
       "\n",
       "    .dataframe thead th {\n",
       "        text-align: right;\n",
       "    }\n",
       "</style>\n",
       "<table border=\"1\" class=\"dataframe\">\n",
       "  <thead>\n",
       "    <tr style=\"text-align: right;\">\n",
       "      <th></th>\n",
       "      <th>accuracy</th>\n",
       "      <th>n_i</th>\n",
       "    </tr>\n",
       "  </thead>\n",
       "  <tbody>\n",
       "    <tr>\n",
       "      <th>count</th>\n",
       "      <td>483.000000</td>\n",
       "      <td>483.0</td>\n",
       "    </tr>\n",
       "    <tr>\n",
       "      <th>mean</th>\n",
       "      <td>0.983692</td>\n",
       "      <td>100.0</td>\n",
       "    </tr>\n",
       "    <tr>\n",
       "      <th>std</th>\n",
       "      <td>0.019453</td>\n",
       "      <td>0.0</td>\n",
       "    </tr>\n",
       "    <tr>\n",
       "      <th>min</th>\n",
       "      <td>0.916667</td>\n",
       "      <td>100.0</td>\n",
       "    </tr>\n",
       "    <tr>\n",
       "      <th>25%</th>\n",
       "      <td>0.973333</td>\n",
       "      <td>100.0</td>\n",
       "    </tr>\n",
       "    <tr>\n",
       "      <th>50%</th>\n",
       "      <td>0.993333</td>\n",
       "      <td>100.0</td>\n",
       "    </tr>\n",
       "    <tr>\n",
       "      <th>75%</th>\n",
       "      <td>1.000000</td>\n",
       "      <td>100.0</td>\n",
       "    </tr>\n",
       "    <tr>\n",
       "      <th>max</th>\n",
       "      <td>1.000000</td>\n",
       "      <td>100.0</td>\n",
       "    </tr>\n",
       "  </tbody>\n",
       "</table>\n",
       "</div>"
      ],
      "text/plain": [
       "         accuracy    n_i\n",
       "count  483.000000  483.0\n",
       "mean     0.983692  100.0\n",
       "std      0.019453    0.0\n",
       "min      0.916667  100.0\n",
       "25%      0.973333  100.0\n",
       "50%      0.993333  100.0\n",
       "75%      1.000000  100.0\n",
       "max      1.000000  100.0"
      ]
     },
     "execution_count": 13,
     "metadata": {},
     "output_type": "execute_result"
    }
   ],
   "source": [
    "n_i_accuracy[THRESHOLD].describe()"
   ]
  },
  {
   "cell_type": "code",
   "execution_count": 14,
   "metadata": {},
   "outputs": [
    {
     "data": {
      "text/plain": [
       "1.000000    0.428571\n",
       "0.996667    0.126294\n",
       "0.990000    0.076605\n",
       "0.993333    0.076605\n",
       "0.986667    0.062112\n",
       "0.983333    0.035197\n",
       "0.980000    0.031056\n",
       "0.976667    0.031056\n",
       "0.970000    0.028986\n",
       "0.973333    0.026915\n",
       "0.966667    0.016563\n",
       "0.960000    0.012422\n",
       "0.963333    0.010352\n",
       "0.950000    0.008282\n",
       "0.956667    0.008282\n",
       "0.943333    0.006211\n",
       "0.953333    0.004141\n",
       "0.946667    0.004141\n",
       "0.940000    0.002070\n",
       "0.936667    0.002070\n",
       "0.920000    0.002070\n",
       "Name: accuracy, dtype: float64"
      ]
     },
     "execution_count": 14,
     "metadata": {},
     "output_type": "execute_result"
    }
   ],
   "source": [
    "n_i_accuracy[10].accuracy.value_counts(normalize=True)"
   ]
  },
  {
   "cell_type": "code",
   "execution_count": 15,
   "metadata": {},
   "outputs": [
    {
     "data": {
      "text/plain": [
       "0.577639751552795"
      ]
     },
     "execution_count": 15,
     "metadata": {},
     "output_type": "execute_result"
    }
   ],
   "source": [
    "accuracy_percent = n_i_accuracy[THRESHOLD].accuracy.value_counts()\n",
    "accuracy_percent[accuracy_percent.index >= 0.99].sum()/len(n_i_accuracy[THRESHOLD])\n",
    "# accuracy_percent[accuracy_percent.index < 0.9].sum()\n"
   ]
  },
  {
   "cell_type": "code",
   "execution_count": 16,
   "metadata": {},
   "outputs": [
    {
     "data": {
      "text/html": [
       "<div>\n",
       "<style scoped>\n",
       "    .dataframe tbody tr th:only-of-type {\n",
       "        vertical-align: middle;\n",
       "    }\n",
       "\n",
       "    .dataframe tbody tr th {\n",
       "        vertical-align: top;\n",
       "    }\n",
       "\n",
       "    .dataframe thead th {\n",
       "        text-align: right;\n",
       "    }\n",
       "</style>\n",
       "<table border=\"1\" class=\"dataframe\">\n",
       "  <thead>\n",
       "    <tr style=\"text-align: right;\">\n",
       "      <th></th>\n",
       "      <th>accuracy</th>\n",
       "      <th>dataset</th>\n",
       "      <th>database</th>\n",
       "      <th>n_i</th>\n",
       "    </tr>\n",
       "  </thead>\n",
       "  <tbody>\n",
       "    <tr>\n",
       "      <th>0</th>\n",
       "      <td>0.980000</td>\n",
       "      <td>Bacillus_1ZARG</td>\n",
       "      <td>eggnog</td>\n",
       "      <td>100</td>\n",
       "    </tr>\n",
       "    <tr>\n",
       "      <th>1</th>\n",
       "      <td>0.976667</td>\n",
       "      <td>Bacillus_1ZART</td>\n",
       "      <td>eggnog</td>\n",
       "      <td>100</td>\n",
       "    </tr>\n",
       "    <tr>\n",
       "      <th>2</th>\n",
       "      <td>0.990000</td>\n",
       "      <td>Bacillus_1ZAS4</td>\n",
       "      <td>eggnog</td>\n",
       "      <td>100</td>\n",
       "    </tr>\n",
       "    <tr>\n",
       "      <th>3</th>\n",
       "      <td>0.990000</td>\n",
       "      <td>Bacillus_1ZAXF</td>\n",
       "      <td>eggnog</td>\n",
       "      <td>100</td>\n",
       "    </tr>\n",
       "    <tr>\n",
       "      <th>4</th>\n",
       "      <td>0.986667</td>\n",
       "      <td>Bacillus_1ZAYH</td>\n",
       "      <td>eggnog</td>\n",
       "      <td>100</td>\n",
       "    </tr>\n",
       "    <tr>\n",
       "      <th>...</th>\n",
       "      <td>...</td>\n",
       "      <td>...</td>\n",
       "      <td>...</td>\n",
       "      <td>...</td>\n",
       "    </tr>\n",
       "    <tr>\n",
       "      <th>478</th>\n",
       "      <td>1.000000</td>\n",
       "      <td>seqal_chrXVI_282140-282664_+_YPL143W</td>\n",
       "      <td>yeast</td>\n",
       "      <td>100</td>\n",
       "    </tr>\n",
       "    <tr>\n",
       "      <th>479</th>\n",
       "      <td>0.996667</td>\n",
       "      <td>seqal_chrXVI_377993-378386_-_YPL090C</td>\n",
       "      <td>yeast</td>\n",
       "      <td>100</td>\n",
       "    </tr>\n",
       "    <tr>\n",
       "      <th>480</th>\n",
       "      <td>0.990000</td>\n",
       "      <td>seqal_chrXVI_406644-407064_+_YPL079W</td>\n",
       "      <td>yeast</td>\n",
       "      <td>100</td>\n",
       "    </tr>\n",
       "    <tr>\n",
       "      <th>481</th>\n",
       "      <td>0.996667</td>\n",
       "      <td>seqal_chrXVI_654165-654567_+_YPR043W</td>\n",
       "      <td>yeast</td>\n",
       "      <td>100</td>\n",
       "    </tr>\n",
       "    <tr>\n",
       "      <th>482</th>\n",
       "      <td>1.000000</td>\n",
       "      <td>seqal_chrXVI_795026-795390_+_YPR132W</td>\n",
       "      <td>yeast</td>\n",
       "      <td>100</td>\n",
       "    </tr>\n",
       "  </tbody>\n",
       "</table>\n",
       "<p>483 rows × 4 columns</p>\n",
       "</div>"
      ],
      "text/plain": [
       "     accuracy                               dataset database  n_i\n",
       "0    0.980000                        Bacillus_1ZARG   eggnog  100\n",
       "1    0.976667                        Bacillus_1ZART   eggnog  100\n",
       "2    0.990000                        Bacillus_1ZAS4   eggnog  100\n",
       "3    0.990000                        Bacillus_1ZAXF   eggnog  100\n",
       "4    0.986667                        Bacillus_1ZAYH   eggnog  100\n",
       "..        ...                                   ...      ...  ...\n",
       "478  1.000000  seqal_chrXVI_282140-282664_+_YPL143W    yeast  100\n",
       "479  0.996667  seqal_chrXVI_377993-378386_-_YPL090C    yeast  100\n",
       "480  0.990000  seqal_chrXVI_406644-407064_+_YPL079W    yeast  100\n",
       "481  0.996667  seqal_chrXVI_654165-654567_+_YPR043W    yeast  100\n",
       "482  1.000000  seqal_chrXVI_795026-795390_+_YPR132W    yeast  100\n",
       "\n",
       "[483 rows x 4 columns]"
      ]
     },
     "execution_count": 16,
     "metadata": {},
     "output_type": "execute_result"
    }
   ],
   "source": [
    "n_i_accuracy[THRESHOLD]"
   ]
  },
  {
   "cell_type": "code",
   "execution_count": 17,
   "metadata": {},
   "outputs": [
    {
     "data": {
      "image/png": "[encoded data removed]",
      "text/plain": [
       "<Figure size 800x550 with 1 Axes>"
      ]
     },
     "metadata": {},
     "output_type": "display_data"
    }
   ],
   "source": [
    "sns.histplot(n_i_accuracy[THRESHOLD],x=\"accuracy\", legend=False)\n",
    "plt.ylabel(\"Number of datasets\")\n",
    "plt.xlabel(\"Accuracy\")\n",
    "plt.savefig(\"assets/total_accuracy.png\", dpi=200)\n",
    "plt.show()"
   ]
  },
  {
   "cell_type": "code",
   "execution_count": 28,
   "metadata": {},
   "outputs": [
    {
     "data": {
      "text/plain": [
       "0.9836922015182885"
      ]
     },
     "execution_count": 28,
     "metadata": {},
     "output_type": "execute_result"
    }
   ],
   "source": [
    "n_i_accuracy[THRESHOLD].accuracy.mean()"
   ]
  },
  {
   "cell_type": "code",
   "execution_count": 29,
   "metadata": {},
   "outputs": [
    {
     "data": {
      "text/plain": [
       "0.9166666666666666"
      ]
     },
     "execution_count": 29,
     "metadata": {},
     "output_type": "execute_result"
    }
   ],
   "source": [
    "n_i_accuracy[THRESHOLD].accuracy.min()"
   ]
  }
 ],
 "metadata": {
  "kernelspec": {
   "display_name": "Python 3.10.6 ('work')",
   "language": "python",
   "name": "python3"
  },
  "language_info": {
   "codemirror_mode": {
    "name": "ipython",
    "version": 3
   },
   "file_extension": ".py",
   "mimetype": "text/x-python",
   "name": "python",
   "nbconvert_exporter": "python",
   "pygments_lexer": "ipython3",
   "version": "3.10.12"
  },
  "orig_nbformat": 4,
  "vscode": {
   "interpreter": {
    "hash": "116670b2f161a8130f157034528fb6f1b6c34a8fe2503f648b685473f81f6b22"
   }
  }
 },
 "nbformat": 4,
 "nbformat_minor": 2
}
