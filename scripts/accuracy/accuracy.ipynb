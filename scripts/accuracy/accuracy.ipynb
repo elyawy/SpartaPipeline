{
 "cells": [
  {
   "cell_type": "code",
   "execution_count": 1,
   "metadata": {},
   "outputs": [],
   "source": [
    "import pathlib, copy, re\n",
    "from itertools import product\n",
    "import numpy as np\n",
    "import pandas as pd\n",
    "from scipy import stats\n",
    "from sklearn.metrics import accuracy_score\n",
    "import matplotlib.pyplot as plt\n",
    "plt.style.use('seaborn-v0_8')\n",
    "import matplotlib.ticker as mtick\n",
    "import seaborn as sns\n",
    "from Bio import Phylo\n",
    "from elyawy.constants import SUMSTATS_LIST, SUMSTATS_DEFINITION, length_distributions\n",
    "from elyawy.sparta import Msa"
   ]
  },
  {
   "cell_type": "code",
   "execution_count": 3,
   "metadata": {},
   "outputs": [
    {
     "name": "stdout",
     "output_type": "stream",
     "text": [
      "/run/user/1000/gvfs/sftp:host=power.tau.ac.il,user=elyawygoda/groups/pupko/elyawygoda/length_distributions/all_outputs/results_rerun/eggnog\n",
      "/run/user/1000/gvfs/sftp:host=power.tau.ac.il,user=elyawygoda/groups/pupko/elyawygoda/length_distributions/all_outputs/results_rerun/yeast\n"
     ]
    }
   ],
   "source": [
    "REMOTE_PATH = pathlib.Path(\"/run/user/1000/gvfs/sftp:host=power.tau.ac.il,user=elyawygoda/groups/pupko/elyawygoda/length_distributions/all_outputs/results_rerun\").resolve()\n",
    "datasets = [\"eggnog\",\"yeast\"]\n",
    "total_accuracy = []\n",
    "for current_data in datasets:\n",
    "    MAIN_PATH = REMOTE_PATH / current_data\n",
    "    print(MAIN_PATH)\n",
    "    if not MAIN_PATH.exists():\n",
    "        exit(1)\n",
    "\n",
    "    for dataset in MAIN_PATH.iterdir():\n",
    "        simulation_results_df = pd.read_csv(dataset / \"simulation_results_100_100000.csv\")\n",
    "        classification_accuracy = accuracy_score(simulation_results_df[\"true_dists\"], simulation_results_df[\"predicted\"])\n",
    "\n",
    "        total_accuracy.append((classification_accuracy, dataset.stem, current_data))\n",
    "\n",
    "accuracy_df = pd.DataFrame(total_accuracy)"
   ]
  },
  {
   "cell_type": "code",
   "execution_count": 4,
   "metadata": {},
   "outputs": [],
   "source": [
    "accuracy_df.columns = [\"accuracy\", \"dataset\",\"database\"]\n",
    "# accuracy_df.to_csv(\"total_accuracy.csv\")"
   ]
  },
  {
   "cell_type": "code",
   "execution_count": 4,
   "metadata": {},
   "outputs": [],
   "source": [
    "accuracy_df = pd.read_csv(\"total_accuracy.csv\", index_col=0)"
   ]
  },
  {
   "cell_type": "code",
   "execution_count": 5,
   "metadata": {},
   "outputs": [
    {
     "data": {
      "text/html": [
       "<div>\n",
       "<style scoped>\n",
       "    .dataframe tbody tr th:only-of-type {\n",
       "        vertical-align: middle;\n",
       "    }\n",
       "\n",
       "    .dataframe tbody tr th {\n",
       "        vertical-align: top;\n",
       "    }\n",
       "\n",
       "    .dataframe thead th {\n",
       "        text-align: right;\n",
       "    }\n",
       "</style>\n",
       "<table border=\"1\" class=\"dataframe\">\n",
       "  <thead>\n",
       "    <tr style=\"text-align: right;\">\n",
       "      <th></th>\n",
       "      <th>accuracy</th>\n",
       "    </tr>\n",
       "  </thead>\n",
       "  <tbody>\n",
       "    <tr>\n",
       "      <th>count</th>\n",
       "      <td>416.000000</td>\n",
       "    </tr>\n",
       "    <tr>\n",
       "      <th>mean</th>\n",
       "      <td>0.981835</td>\n",
       "    </tr>\n",
       "    <tr>\n",
       "      <th>std</th>\n",
       "      <td>0.025546</td>\n",
       "    </tr>\n",
       "    <tr>\n",
       "      <th>min</th>\n",
       "      <td>0.886667</td>\n",
       "    </tr>\n",
       "    <tr>\n",
       "      <th>25%</th>\n",
       "      <td>0.973333</td>\n",
       "    </tr>\n",
       "    <tr>\n",
       "      <th>50%</th>\n",
       "      <td>0.996667</td>\n",
       "    </tr>\n",
       "    <tr>\n",
       "      <th>75%</th>\n",
       "      <td>1.000000</td>\n",
       "    </tr>\n",
       "    <tr>\n",
       "      <th>max</th>\n",
       "      <td>1.000000</td>\n",
       "    </tr>\n",
       "  </tbody>\n",
       "</table>\n",
       "</div>"
      ],
      "text/plain": [
       "         accuracy\n",
       "count  416.000000\n",
       "mean     0.981835\n",
       "std      0.025546\n",
       "min      0.886667\n",
       "25%      0.973333\n",
       "50%      0.996667\n",
       "75%      1.000000\n",
       "max      1.000000"
      ]
     },
     "execution_count": 5,
     "metadata": {},
     "output_type": "execute_result"
    }
   ],
   "source": [
    "accuracy_df.query('database == \"eggnog\"').describe()"
   ]
  },
  {
   "cell_type": "code",
   "execution_count": 8,
   "metadata": {},
   "outputs": [
    {
     "data": {
      "text/html": [
       "<div>\n",
       "<style scoped>\n",
       "    .dataframe tbody tr th:only-of-type {\n",
       "        vertical-align: middle;\n",
       "    }\n",
       "\n",
       "    .dataframe tbody tr th {\n",
       "        vertical-align: top;\n",
       "    }\n",
       "\n",
       "    .dataframe thead th {\n",
       "        text-align: right;\n",
       "    }\n",
       "</style>\n",
       "<table border=\"1\" class=\"dataframe\">\n",
       "  <thead>\n",
       "    <tr style=\"text-align: right;\">\n",
       "      <th></th>\n",
       "      <th>accuracy</th>\n",
       "    </tr>\n",
       "  </thead>\n",
       "  <tbody>\n",
       "    <tr>\n",
       "      <th>count</th>\n",
       "      <td>416.000000</td>\n",
       "    </tr>\n",
       "    <tr>\n",
       "      <th>mean</th>\n",
       "      <td>0.981835</td>\n",
       "    </tr>\n",
       "    <tr>\n",
       "      <th>std</th>\n",
       "      <td>0.025546</td>\n",
       "    </tr>\n",
       "    <tr>\n",
       "      <th>min</th>\n",
       "      <td>0.886667</td>\n",
       "    </tr>\n",
       "    <tr>\n",
       "      <th>25%</th>\n",
       "      <td>0.973333</td>\n",
       "    </tr>\n",
       "    <tr>\n",
       "      <th>50%</th>\n",
       "      <td>0.996667</td>\n",
       "    </tr>\n",
       "    <tr>\n",
       "      <th>75%</th>\n",
       "      <td>1.000000</td>\n",
       "    </tr>\n",
       "    <tr>\n",
       "      <th>max</th>\n",
       "      <td>1.000000</td>\n",
       "    </tr>\n",
       "  </tbody>\n",
       "</table>\n",
       "</div>"
      ],
      "text/plain": [
       "         accuracy\n",
       "count  416.000000\n",
       "mean     0.981835\n",
       "std      0.025546\n",
       "min      0.886667\n",
       "25%      0.973333\n",
       "50%      0.996667\n",
       "75%      1.000000\n",
       "max      1.000000"
      ]
     },
     "execution_count": 8,
     "metadata": {},
     "output_type": "execute_result"
    }
   ],
   "source": [
    "accuracy_df.query('database == \"eggnog\"').describe()"
   ]
  },
  {
   "cell_type": "code",
   "execution_count": 14,
   "metadata": {},
   "outputs": [
    {
     "data": {
      "image/png": "[encoded data removed]",
      "text/plain": [
       "<Figure size 800x550 with 1 Axes>"
      ]
     },
     "metadata": {},
     "output_type": "display_data"
    }
   ],
   "source": [
    "sns.histplot(accuracy_df, legend=False)\n",
    "plt.ylabel(\"Number of datasets\")\n",
    "plt.xlabel(\"Accuracy\")\n",
    "plt.savefig(\"total_accuracy.svg\", dpi=200)\n",
    "plt.show()"
   ]
  },
  {
   "cell_type": "code",
   "execution_count": 30,
   "metadata": {},
   "outputs": [
    {
     "data": {
      "text/plain": [
       "1.000000    0.459627\n",
       "0.996667    0.101449\n",
       "0.993333    0.053830\n",
       "0.990000    0.035197\n",
       "0.986667    0.031056\n",
       "0.980000    0.031056\n",
       "0.976667    0.026915\n",
       "0.983333    0.024845\n",
       "0.973333    0.024845\n",
       "0.960000    0.022774\n",
       "0.936667    0.018634\n",
       "0.963333    0.016563\n",
       "0.933333    0.016563\n",
       "0.946667    0.012422\n",
       "0.950000    0.012422\n",
       "0.970000    0.012422\n",
       "0.966667    0.012422\n",
       "0.943333    0.012422\n",
       "0.913333    0.010352\n",
       "0.926667    0.008282\n",
       "0.953333    0.008282\n",
       "0.940000    0.008282\n",
       "0.923333    0.006211\n",
       "0.956667    0.006211\n",
       "0.910000    0.004141\n",
       "0.920000    0.004141\n",
       "0.896667    0.004141\n",
       "0.930000    0.004141\n",
       "0.903333    0.002070\n",
       "0.906667    0.002070\n",
       "0.890000    0.002070\n",
       "0.886667    0.002070\n",
       "0.916667    0.002070\n",
       "Name: accuracy, dtype: float64"
      ]
     },
     "execution_count": 30,
     "metadata": {},
     "output_type": "execute_result"
    }
   ],
   "source": [
    "accuracy_df.accuracy.value_counts(normalize=True)"
   ]
  }
 ],
 "metadata": {
  "kernelspec": {
   "display_name": "Python 3.10.6 ('work')",
   "language": "python",
   "name": "python3"
  },
  "language_info": {
   "codemirror_mode": {
    "name": "ipython",
    "version": 3
   },
   "file_extension": ".py",
   "mimetype": "text/x-python",
   "name": "python",
   "nbconvert_exporter": "python",
   "pygments_lexer": "ipython3",
   "version": "3.10.6"
  },
  "orig_nbformat": 4,
  "vscode": {
   "interpreter": {
    "hash": "116670b2f161a8130f157034528fb6f1b6c34a8fe2503f648b685473f81f6b22"
   }
  }
 },
 "nbformat": 4,
 "nbformat_minor": 2
}
