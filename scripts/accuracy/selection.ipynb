{
 "cells": [
  {
   "cell_type": "code",
   "execution_count": 2,
   "metadata": {},
   "outputs": [],
   "source": [
    "from json import load\n",
    "import sys\n",
    "from pathlib import Path\n",
    "import numpy as np\n",
    "import pandas as pd\n",
    "from sklearn.utils import shuffle\n",
    "import matplotlib.pyplot as plt\n",
    "import seaborn as sns\n",
    "from elyawy.io import load_sims_df\n",
    "from elyawy.constants import SUMSTATS_LIST"
   ]
  },
  {
   "cell_type": "code",
   "execution_count": 3,
   "metadata": {},
   "outputs": [],
   "source": [
    "\n",
    "res_path = Path(\"/home/elyawy/Desktop/ENSG00000002933_TMEM176A/\") # os.path.join(all_outputs_path, dir_name)\n",
    "\n",
    "full_data, regressors, reg_stats = load_sims_df(data_path=res_path, correction=True)"
   ]
  },
  {
   "cell_type": "code",
   "execution_count": 4,
   "metadata": {},
   "outputs": [],
   "source": [
    "full_zipf = shuffle(full_data[full_data[\"length_distribution\"] == \"zipf\"])\n",
    "full_geometric = shuffle(full_data[full_data[\"length_distribution\"] == \"geometric\"])\n",
    "full_poisson = shuffle(full_data[full_data[\"length_distribution\"] == \"poisson\"])"
   ]
  },
  {
   "cell_type": "code",
   "execution_count": 5,
   "metadata": {},
   "outputs": [],
   "source": [
    "num_test = 100\n",
    "test_zipf = full_zipf[:num_test]\n",
    "test_geometric = full_geometric[:num_test]\n",
    "test_poisson = full_poisson[:num_test]\n",
    "\n",
    "test_data = shuffle(pd.concat([test_zipf, test_geometric, test_poisson]))\n",
    "remaining_data = shuffle(pd.concat([full_zipf[num_test:],full_geometric[num_test:], full_poisson[num_test:]]))"
   ]
  },
  {
   "cell_type": "code",
   "execution_count": 6,
   "metadata": {},
   "outputs": [],
   "source": [
    "test_data_sum_stats = test_data[SUMSTATS_LIST].astype(\"float\")\n",
    "remaining_sum_stats = remaining_data[SUMSTATS_LIST].astype(\"float\")\n",
    "sum_stat_cov = remaining_sum_stats.cov().values\n",
    "inv_covmat = np.linalg.inv(sum_stat_cov)"
   ]
  },
  {
   "cell_type": "code",
   "execution_count": 7,
   "metadata": {},
   "outputs": [],
   "source": [
    "predicted_dist = remaining_data[\"length_distribution\"].reset_index(drop=True)\n",
    "true_dists = test_data[\"length_distribution\"].reset_index(drop=True)"
   ]
  },
  {
   "cell_type": "code",
   "execution_count": 8,
   "metadata": {},
   "outputs": [],
   "source": [
    "abc_counts = []\n",
    "epsilon = 100\n",
    "count = 0\n",
    "for u in test_data_sum_stats.values:\n",
    "    def mahalanobis(simulated_stats):\n",
    "        u_minus_v = simulated_stats-u\n",
    "        left = np.dot(u_minus_v, inv_covmat)\n",
    "        mahal = np.sqrt(np.sum(u_minus_v*left, axis=1))\n",
    "        return mahal\n",
    "    distances_from_u = mahalanobis(remaining_sum_stats).reset_index(drop=True)\n",
    "    distances_from_u.name = \"distances\"\n",
    "    distances_from_u = pd.concat([distances_from_u, predicted_dist], axis=1)\n",
    "    distances_from_u.columns = [\"distances\", \"predicted_distribution\"]\n",
    "\n",
    "    dist_distribution = distances_from_u.nsmallest(epsilon, columns=\"distances\")\n",
    "    dist_distribution = dist_distribution[\"predicted_distribution\"].value_counts()\n",
    "    dist_distribution.name = f'{count}'\n",
    "    count+=1\n",
    "    abc_counts.append(dist_distribution)\n",
    "all_counts = pd.concat(abc_counts,  axis=1)\n"
   ]
  },
  {
   "cell_type": "code",
   "execution_count": 9,
   "metadata": {},
   "outputs": [],
   "source": [
    "abc_winners = pd.DataFrame(all_counts.fillna(0).idxmax())\n",
    "abc_winners.columns = [\"predicted\"]"
   ]
  },
  {
   "cell_type": "code",
   "execution_count": 10,
   "metadata": {},
   "outputs": [],
   "source": [
    "td_list = true_dists[:count]\n",
    "td_list.name = \"true_dists\"\n",
    "td_list = pd.DataFrame(td_list).T\n",
    "td_list.columns = all_counts.columns\n",
    "final_results = pd.concat([all_counts.fillna(0), abc_winners.T, td_list]).T"
   ]
  },
  {
   "cell_type": "code",
   "execution_count": 11,
   "metadata": {},
   "outputs": [
    {
     "data": {
      "text/html": [
       "<div>\n",
       "<style scoped>\n",
       "    .dataframe tbody tr th:only-of-type {\n",
       "        vertical-align: middle;\n",
       "    }\n",
       "\n",
       "    .dataframe tbody tr th {\n",
       "        vertical-align: top;\n",
       "    }\n",
       "\n",
       "    .dataframe thead th {\n",
       "        text-align: right;\n",
       "    }\n",
       "</style>\n",
       "<table border=\"1\" class=\"dataframe\">\n",
       "  <thead>\n",
       "    <tr style=\"text-align: right;\">\n",
       "      <th></th>\n",
       "      <th>zipf</th>\n",
       "      <th>poisson</th>\n",
       "      <th>geometric</th>\n",
       "      <th>predicted</th>\n",
       "      <th>true_dists</th>\n",
       "    </tr>\n",
       "  </thead>\n",
       "  <tbody>\n",
       "    <tr>\n",
       "      <th>0</th>\n",
       "      <td>100.0</td>\n",
       "      <td>0.0</td>\n",
       "      <td>0.0</td>\n",
       "      <td>zipf</td>\n",
       "      <td>zipf</td>\n",
       "    </tr>\n",
       "    <tr>\n",
       "      <th>1</th>\n",
       "      <td>0.0</td>\n",
       "      <td>100.0</td>\n",
       "      <td>0.0</td>\n",
       "      <td>poisson</td>\n",
       "      <td>poisson</td>\n",
       "    </tr>\n",
       "    <tr>\n",
       "      <th>2</th>\n",
       "      <td>0.0</td>\n",
       "      <td>24.0</td>\n",
       "      <td>76.0</td>\n",
       "      <td>geometric</td>\n",
       "      <td>geometric</td>\n",
       "    </tr>\n",
       "    <tr>\n",
       "      <th>3</th>\n",
       "      <td>0.0</td>\n",
       "      <td>100.0</td>\n",
       "      <td>0.0</td>\n",
       "      <td>poisson</td>\n",
       "      <td>poisson</td>\n",
       "    </tr>\n",
       "    <tr>\n",
       "      <th>4</th>\n",
       "      <td>100.0</td>\n",
       "      <td>0.0</td>\n",
       "      <td>0.0</td>\n",
       "      <td>zipf</td>\n",
       "      <td>zipf</td>\n",
       "    </tr>\n",
       "    <tr>\n",
       "      <th>...</th>\n",
       "      <td>...</td>\n",
       "      <td>...</td>\n",
       "      <td>...</td>\n",
       "      <td>...</td>\n",
       "      <td>...</td>\n",
       "    </tr>\n",
       "    <tr>\n",
       "      <th>295</th>\n",
       "      <td>0.0</td>\n",
       "      <td>100.0</td>\n",
       "      <td>0.0</td>\n",
       "      <td>poisson</td>\n",
       "      <td>poisson</td>\n",
       "    </tr>\n",
       "    <tr>\n",
       "      <th>296</th>\n",
       "      <td>0.0</td>\n",
       "      <td>100.0</td>\n",
       "      <td>0.0</td>\n",
       "      <td>poisson</td>\n",
       "      <td>poisson</td>\n",
       "    </tr>\n",
       "    <tr>\n",
       "      <th>297</th>\n",
       "      <td>0.0</td>\n",
       "      <td>100.0</td>\n",
       "      <td>0.0</td>\n",
       "      <td>poisson</td>\n",
       "      <td>poisson</td>\n",
       "    </tr>\n",
       "    <tr>\n",
       "      <th>298</th>\n",
       "      <td>0.0</td>\n",
       "      <td>100.0</td>\n",
       "      <td>0.0</td>\n",
       "      <td>poisson</td>\n",
       "      <td>poisson</td>\n",
       "    </tr>\n",
       "    <tr>\n",
       "      <th>299</th>\n",
       "      <td>98.0</td>\n",
       "      <td>0.0</td>\n",
       "      <td>2.0</td>\n",
       "      <td>zipf</td>\n",
       "      <td>zipf</td>\n",
       "    </tr>\n",
       "  </tbody>\n",
       "</table>\n",
       "<p>300 rows × 5 columns</p>\n",
       "</div>"
      ],
      "text/plain": [
       "      zipf poisson geometric  predicted true_dists\n",
       "0    100.0     0.0       0.0       zipf       zipf\n",
       "1      0.0   100.0       0.0    poisson    poisson\n",
       "2      0.0    24.0      76.0  geometric  geometric\n",
       "3      0.0   100.0       0.0    poisson    poisson\n",
       "4    100.0     0.0       0.0       zipf       zipf\n",
       "..     ...     ...       ...        ...        ...\n",
       "295    0.0   100.0       0.0    poisson    poisson\n",
       "296    0.0   100.0       0.0    poisson    poisson\n",
       "297    0.0   100.0       0.0    poisson    poisson\n",
       "298    0.0   100.0       0.0    poisson    poisson\n",
       "299   98.0     0.0       2.0       zipf       zipf\n",
       "\n",
       "[300 rows x 5 columns]"
      ]
     },
     "execution_count": 11,
     "metadata": {},
     "output_type": "execute_result"
    }
   ],
   "source": [
    "final_results"
   ]
  },
  {
   "cell_type": "code",
   "execution_count": 12,
   "metadata": {},
   "outputs": [],
   "source": [
    "final_results.to_csv(res_path / f\"selection_results_{epsilon}.csv\")"
   ]
  },
  {
   "cell_type": "code",
   "execution_count": 13,
   "metadata": {},
   "outputs": [],
   "source": [
    "confusion_matrix = pd.crosstab(final_results[\"true_dists\"], final_results[\"predicted\"])"
   ]
  },
  {
   "cell_type": "code",
   "execution_count": 14,
   "metadata": {},
   "outputs": [
    {
     "data": {
      "image/png": "[encoded data removed]",
      "text/plain": [
       "<Figure size 432x288 with 2 Axes>"
      ]
     },
     "metadata": {
      "needs_background": "light"
     },
     "output_type": "display_data"
    }
   ],
   "source": [
    "sns.heatmap(confusion_matrix, annot=True, cmap='Blues', fmt='g')\n",
    "plt.savefig(res_path / f\"selection_results_{epsilon}.png\", dpi=200)"
   ]
  }
 ],
 "metadata": {
  "interpreter": {
   "hash": "398e45b7d84ae35f48af605ecb772ac88a2918d076ea8eee11b2c6e93d61b47a"
  },
  "kernelspec": {
   "display_name": "Python 3.8.10 ('buildenv')",
   "language": "python",
   "name": "python3"
  },
  "language_info": {
   "codemirror_mode": {
    "name": "ipython",
    "version": 3
   },
   "file_extension": ".py",
   "mimetype": "text/x-python",
   "name": "python",
   "nbconvert_exporter": "python",
   "pygments_lexer": "ipython3",
   "version": "3.8.10"
  },
  "orig_nbformat": 4
 },
 "nbformat": 4,
 "nbformat_minor": 2
}
