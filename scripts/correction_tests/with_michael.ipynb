{
 "cells": [
  {
   "cell_type": "code",
   "execution_count": 2,
   "metadata": {},
   "outputs": [],
   "source": [
    "import pathlib\n",
    "import pandas as pd\n",
    "from lightgbm import LGBMRegressor, LGBMClassifier\n",
    "import numpy as np\n",
    "from matplotlib import pyplot as plt\n",
    "from sklearn.model_selection import train_test_split, GridSearchCV\n",
    "from sklearn.metrics import accuracy_score\n",
    "from scipy import stats as st\n",
    "from sklearn.pipeline import Pipeline\n",
    "import phylolib as pll\n",
    "\n",
    "from sklearn.base import BaseEstimator, TransformerMixin# define the transformer\n",
    "class StandardMemoryScaler(BaseEstimator, TransformerMixin):\n",
    "\n",
    "    def __init__(self, epsilon=1e-4):\n",
    "        self._epsilon = epsilon\n",
    "        \n",
    "    def fit(self, X, y = None):\n",
    "        self._mean = X.mean()\n",
    "        self._std = X.std()\n",
    "        return self\n",
    "\n",
    "    def transform(self, X):\n",
    "        X = (X-self._mean)/(self._std+self._epsilon)\n",
    "\n",
    "        return X        \n",
    "\n",
    "    def inverse_transform(self, X_scaled):\n",
    "        X = X_scaled*(self._std+self._epsilon) + self._mean\n",
    "        return X\n"
   ]
  },
  {
   "cell_type": "code",
   "execution_count": 3,
   "metadata": {},
   "outputs": [],
   "source": [
    "REMOTE_PATH = \"/run/user/1000/gvfs/sftp:host=power.tau.ac.il,user=elyawygoda/groups/pupko/elyawygoda/length_distributions/all_outputs/\"\n",
    "DATASETS_PATH =  pathlib.Path(REMOTE_PATH) / \"results\"\n",
    "CORRECTION_DATA_PATH = pathlib.Path(REMOTE_PATH) / \"correction_data\"\n",
    "CORRECTION_DATA_PATH.resolve()\n",
    "ALL_DATA_FILE = pathlib.Path(\"/home/elyalab/Data/correction/all_correction_data_v2.parquet.gzip\")\n",
    "LABEL_COLUMNS = [f\"label_{i}\" for i in range(0,27)]"
   ]
  },
  {
   "cell_type": "code",
   "execution_count": 4,
   "metadata": {},
   "outputs": [],
   "source": [
    "def get_tree_features(tree_path: pathlib.Path):\n",
    "    tree = pll.Tree(str(tree_path))\n",
    "    sum_of_branches = tree.sum_of_branch_lengths()\n",
    "    leaf_distances = tree.leaves_dist_from_root()\n",
    "    max_distance, min_distance = max(leaf_distances), min(leaf_distances)\n",
    "    num_leaves = tree.leaves_num()\n",
    "\n",
    "    return sum_of_branches, min_distance, max_distance, num_leaves"
   ]
  },
  {
   "cell_type": "code",
   "execution_count": 5,
   "metadata": {},
   "outputs": [],
   "source": [
    "somepath = pathlib.Path(\"/run/user/1000/gvfs/sftp:host=power.tau.ac.il,user=elyawygoda/groups/pupko/elyawygoda/length_distributions/all_outputs/results_rerun/eggnog/Bacillus_1ZARG/RAxML_tree.tree\")"
   ]
  },
  {
   "cell_type": "code",
   "execution_count": 6,
   "metadata": {},
   "outputs": [
    {
     "data": {
      "text/plain": [
       "(8.971457898899995, 0.20228059999999998, 0.429873, 75)"
      ]
     },
     "execution_count": 6,
     "metadata": {},
     "output_type": "execute_result"
    }
   ],
   "source": [
    "get_tree_features(somepath)"
   ]
  },
  {
   "cell_type": "code",
   "execution_count": 7,
   "metadata": {},
   "outputs": [],
   "source": [
    "def fetch_paths(current_path: pathlib.Path):\n",
    "    print(str(current_path))\n",
    "    if len( n := list(current_path.glob(\"*.tree\"))) == 1:\n",
    "        tree_path = n[0]\n",
    "\n",
    "    if len( n := list(current_path.glob(\"*.fasta\"))) == 1:\n",
    "        msa_path = n[0]\n",
    "\n",
    "    if tree_path is None or msa_path is None:\n",
    "        print(\"no fasta or tree file\")\n",
    "        exit()\n",
    "    return tree_path, msa_path\n"
   ]
  },
  {
   "cell_type": "code",
   "execution_count": 8,
   "metadata": {},
   "outputs": [
    {
     "data": {
      "text/plain": [
       "(7.336260499999964, 0.10654649999999999, 0.679726, 109)"
      ]
     },
     "execution_count": 8,
     "metadata": {},
     "output_type": "execute_result"
    }
   ],
   "source": [
    "get_tree_features(\"/home/elyalab/Data/orthomam/ENSG00000004948_CALCR/ENSG00000004948_CALCR_NT.tree\")"
   ]
  },
  {
   "cell_type": "code",
   "execution_count": 23,
   "metadata": {},
   "outputs": [],
   "source": [
    "def fetch_all_data_df_from_server() -> pd.DataFrame:\n",
    "    feature_files  = sorted(list(CORRECTION_DATA_PATH.glob(\"*_true.parquet.gzip\")))\n",
    "    label_files  = sorted(list(CORRECTION_DATA_PATH.glob(\"*_realigned.parquet.gzip\")))\n",
    "    for feature_path,label_path in zip(feature_files, label_files):\n",
    "        dataset_a = \"_\".join(feature_path.stem.split(\"_\")[:4])\n",
    "        dataset_b = \"_\".join(label_path.stem.split(\"_\")[:4])\n",
    "        assert dataset_a == dataset_b\n",
    "        \n",
    "    tree_features = [\"sum_branch_length\", \"min_dist_root\", \"max_dist_root\", \"num_leaves\"]\n",
    "    data_attributes = [\"dataset\", \"length_distribution\", \"indel_model\"]\n",
    "\n",
    "\n",
    "    feature_dfs = []\n",
    "    for feature_path,label_path in zip(feature_files, label_files):\n",
    "        feature_df_tmp = pd.read_parquet(feature_path)\n",
    "        label_df_tmp = pd.read_parquet(label_path)\n",
    "        feature_df_tmp[LABEL_COLUMNS] = label_df_tmp\n",
    "        columns_copy = feature_df_tmp.columns.copy()\n",
    "        dataset, lendist, indel_model, _ = feature_path.stem.rsplit(\"_\", maxsplit=3)\n",
    "        feature_df_tmp[data_attributes] = dataset, lendist, indel_model\n",
    "        \n",
    "        if (DATASETS_PATH / \"eggnog\" / dataset).exists():\n",
    "            tmp_path = DATASETS_PATH / \"eggnog\" / dataset\n",
    "            tree_path, _ = fetch_paths(tmp_path)\n",
    "        elif (DATASETS_PATH / \"yeast\" / dataset).exists():\n",
    "            tmp_path = DATASETS_PATH / \"yeast\" / dataset\n",
    "            tree_path, _ = fetch_paths(tmp_path)\n",
    "        else:\n",
    "            print(dataset, \"is a problem\")\n",
    "        print(tree_path)\n",
    "        sum_branch_length, min_dist_root, max_dist_root, num_leaves = get_tree_features(tree_path)\n",
    "        feature_df_tmp[tree_features] = sum_branch_length, min_dist_root, max_dist_root, num_leaves\n",
    "\n",
    "        reordered_columns = tree_features + list(columns_copy) + data_attributes\n",
    "        feature_df_tmp = feature_df_tmp[reordered_columns]\n",
    "        feature_dfs.append(feature_df_tmp)\n",
    "    final_feature_labels_df = pd.concat(feature_dfs)\n",
    "\n",
    "    return final_feature_labels_df\n"
   ]
  },
  {
   "cell_type": "code",
   "execution_count": 9,
   "metadata": {},
   "outputs": [
    {
     "data": {
      "text/plain": [
       "1449000"
      ]
     },
     "execution_count": 9,
     "metadata": {},
     "output_type": "execute_result"
    }
   ],
   "source": [
    "if ALL_DATA_FILE.exists():\n",
    "    final_feature_labels_df = pd.read_parquet(ALL_DATA_FILE)\n",
    "else:\n",
    "    final_feature_labels_df = fetch_all_data_df_from_server()\n",
    "    final_feature_labels_df.to_parquet(ALL_DATA_FILE, compression=\"gzip\")\n",
    "len(final_feature_labels_df)"
   ]
  },
  {
   "cell_type": "code",
   "execution_count": 34,
   "metadata": {},
   "outputs": [],
   "source": [
    "# separated_dataset = final_feature_labels_df.query(\"dataset == 'Bacillus_1ZARG'\")\n",
    "# final_feature_labels_df = final_feature_labels_df[final_feature_labels_df.dataset != \"Bacillus_1ZARG\"]"
   ]
  },
  {
   "cell_type": "code",
   "execution_count": 10,
   "metadata": {},
   "outputs": [
    {
     "data": {
      "text/plain": [
       "LGBMRegressor()"
      ]
     },
     "execution_count": 10,
     "metadata": {},
     "output_type": "execute_result"
    }
   ],
   "source": [
    "regressor = LGBMRegressor()\n",
    "labels = final_feature_labels_df['label_19']\n",
    "features = final_feature_labels_df.loc[:,:'31']\n",
    "X_train, X_test, y_train, y_test = train_test_split(features,\n",
    "                                                    labels,\n",
    "                                                    train_size=0.8)\n",
    "regressor.fit(X_train, y_train)"
   ]
  },
  {
   "cell_type": "code",
   "execution_count": 11,
   "metadata": {},
   "outputs": [],
   "source": [
    "predictions = regressor.predict(X_test)"
   ]
  },
  {
   "cell_type": "code",
   "execution_count": 12,
   "metadata": {},
   "outputs": [
    {
     "data": {
      "text/plain": [
       "PearsonRResult(statistic=0.8778670277120643, pvalue=0.0)"
      ]
     },
     "execution_count": 12,
     "metadata": {},
     "output_type": "execute_result"
    }
   ],
   "source": [
    "st.pearsonr(predictions,y_test )\n",
    "# pd.Series(rounded_pred).value_counts()\n",
    "# pd.Series(labels).value_counts()"
   ]
  },
  {
   "cell_type": "code",
   "execution_count": 13,
   "metadata": {},
   "outputs": [
    {
     "data": {
      "text/plain": [
       "(array([2.5327e+05, 2.9418e+04, 5.4490e+03, 1.0120e+03, 4.7400e+02,\n",
       "        1.2500e+02, 2.8000e+01, 1.5000e+01, 6.0000e+00, 3.0000e+00]),\n",
       " array([ 0. ,  2.7,  5.4,  8.1, 10.8, 13.5, 16.2, 18.9, 21.6, 24.3, 27. ]),\n",
       " <BarContainer object of 10 artists>)"
      ]
     },
     "execution_count": 13,
     "metadata": {},
     "output_type": "execute_result"
    },
    {
     "data": {
      "image/png": "[encoded data removed]",
      "text/plain": [
       "<Figure size 640x480 with 1 Axes>"
      ]
     },
     "metadata": {},
     "output_type": "display_data"
    }
   ],
   "source": [
    "plt.hist(predictions, alpha=0.5, color=\"orange\")\n",
    "plt.hist(y_test, alpha=0.5, color=\"blue\")"
   ]
  },
  {
   "cell_type": "code",
   "execution_count": 14,
   "metadata": {},
   "outputs": [
    {
     "data": {
      "text/plain": [
       "<matplotlib.collections.PathCollection at 0x7f5c1405ed40>"
      ]
     },
     "execution_count": 14,
     "metadata": {},
     "output_type": "execute_result"
    },
    {
     "data": {
      "image/png": "[encoded data removed]",
      "text/plain": [
       "<Figure size 640x480 with 1 Axes>"
      ]
     },
     "metadata": {},
     "output_type": "display_data"
    }
   ],
   "source": [
    "plt.scatter(y_test, predictions)"
   ]
  },
  {
   "cell_type": "code",
   "execution_count": 53,
   "metadata": {},
   "outputs": [
    {
     "ename": "NameError",
     "evalue": "name 'separated_dataset' is not defined",
     "output_type": "error",
     "traceback": [
      "\u001b[0;31m---------------------------------------------------------------------------\u001b[0m",
      "\u001b[0;31mNameError\u001b[0m                                 Traceback (most recent call last)",
      "\u001b[1;32m/home/elyalab/Dev/projects/SpartaPipeline/scripts/correction/with_michael.ipynb Cell 17\u001b[0m in \u001b[0;36m1\n\u001b[0;32m----> <a href='vscode-notebook-cell:/home/elyalab/Dev/projects/SpartaPipeline/scripts/correction/with_michael.ipynb#X13sZmlsZQ%3D%3D?line=0'>1</a>\u001b[0m separated_dataset\u001b[39m.\u001b[39mloc[:,:\u001b[39m'\u001b[39m\u001b[39m31\u001b[39m\u001b[39m'\u001b[39m]\n",
      "\u001b[0;31mNameError\u001b[0m: name 'separated_dataset' is not defined"
     ]
    }
   ],
   "source": [
    "separated_dataset.loc[:,:'31']"
   ]
  },
  {
   "cell_type": "code",
   "execution_count": 15,
   "metadata": {},
   "outputs": [
    {
     "name": "stdout",
     "output_type": "stream",
     "text": [
      "correlation for label_0 is: 0.945\n"
     ]
    },
    {
     "ename": "KeyboardInterrupt",
     "evalue": "",
     "output_type": "error",
     "traceback": [
      "\u001b[0;31m---------------------------------------------------------------------------\u001b[0m",
      "\u001b[0;31mKeyboardInterrupt\u001b[0m                         Traceback (most recent call last)",
      "\u001b[1;32m/home/elyalab/Dev/projects/SpartaPipeline/scripts/correction/with_michael.ipynb Cell 17\u001b[0m in \u001b[0;36m1\n\u001b[1;32m      <a href='vscode-notebook-cell:/home/elyalab/Dev/projects/SpartaPipeline/scripts/correction/with_michael.ipynb#X22sZmlsZQ%3D%3D?line=7'>8</a>\u001b[0m features \u001b[39m=\u001b[39m final_feature_labels_df\u001b[39m.\u001b[39mloc[:,:\u001b[39m'\u001b[39m\u001b[39m31\u001b[39m\u001b[39m'\u001b[39m]\n\u001b[1;32m      <a href='vscode-notebook-cell:/home/elyalab/Dev/projects/SpartaPipeline/scripts/correction/with_michael.ipynb#X22sZmlsZQ%3D%3D?line=8'>9</a>\u001b[0m X_train, X_test, y_train, y_test \u001b[39m=\u001b[39m train_test_split(features,\n\u001b[1;32m     <a href='vscode-notebook-cell:/home/elyalab/Dev/projects/SpartaPipeline/scripts/correction/with_michael.ipynb#X22sZmlsZQ%3D%3D?line=9'>10</a>\u001b[0m                                                     labels,\n\u001b[1;32m     <a href='vscode-notebook-cell:/home/elyalab/Dev/projects/SpartaPipeline/scripts/correction/with_michael.ipynb#X22sZmlsZQ%3D%3D?line=10'>11</a>\u001b[0m                                                     train_size\u001b[39m=\u001b[39m\u001b[39m0.8\u001b[39m)\n\u001b[0;32m---> <a href='vscode-notebook-cell:/home/elyalab/Dev/projects/SpartaPipeline/scripts/correction/with_michael.ipynb#X22sZmlsZQ%3D%3D?line=11'>12</a>\u001b[0m regressors[label]\u001b[39m.\u001b[39;49mfit(X_train, y_train)\n\u001b[1;32m     <a href='vscode-notebook-cell:/home/elyalab/Dev/projects/SpartaPipeline/scripts/correction/with_michael.ipynb#X22sZmlsZQ%3D%3D?line=13'>14</a>\u001b[0m predictions \u001b[39m=\u001b[39m regressors[label]\u001b[39m.\u001b[39mpredict(X_test)\n\u001b[1;32m     <a href='vscode-notebook-cell:/home/elyalab/Dev/projects/SpartaPipeline/scripts/correction/with_michael.ipynb#X22sZmlsZQ%3D%3D?line=14'>15</a>\u001b[0m pearson_r \u001b[39m=\u001b[39m st\u001b[39m.\u001b[39mpearsonr(predictions, y_test)\n",
      "File \u001b[0;32m~/envs/work/lib/python3.10/site-packages/lightgbm/sklearn.py:895\u001b[0m, in \u001b[0;36mLGBMRegressor.fit\u001b[0;34m(self, X, y, sample_weight, init_score, eval_set, eval_names, eval_sample_weight, eval_init_score, eval_metric, early_stopping_rounds, verbose, feature_name, categorical_feature, callbacks, init_model)\u001b[0m\n\u001b[1;32m    888\u001b[0m \u001b[39mdef\u001b[39;00m \u001b[39mfit\u001b[39m(\u001b[39mself\u001b[39m, X, y,\n\u001b[1;32m    889\u001b[0m         sample_weight\u001b[39m=\u001b[39m\u001b[39mNone\u001b[39;00m, init_score\u001b[39m=\u001b[39m\u001b[39mNone\u001b[39;00m,\n\u001b[1;32m    890\u001b[0m         eval_set\u001b[39m=\u001b[39m\u001b[39mNone\u001b[39;00m, eval_names\u001b[39m=\u001b[39m\u001b[39mNone\u001b[39;00m, eval_sample_weight\u001b[39m=\u001b[39m\u001b[39mNone\u001b[39;00m,\n\u001b[1;32m    891\u001b[0m         eval_init_score\u001b[39m=\u001b[39m\u001b[39mNone\u001b[39;00m, eval_metric\u001b[39m=\u001b[39m\u001b[39mNone\u001b[39;00m, early_stopping_rounds\u001b[39m=\u001b[39m\u001b[39mNone\u001b[39;00m,\n\u001b[1;32m    892\u001b[0m         verbose\u001b[39m=\u001b[39m\u001b[39m'\u001b[39m\u001b[39mwarn\u001b[39m\u001b[39m'\u001b[39m, feature_name\u001b[39m=\u001b[39m\u001b[39m'\u001b[39m\u001b[39mauto\u001b[39m\u001b[39m'\u001b[39m, categorical_feature\u001b[39m=\u001b[39m\u001b[39m'\u001b[39m\u001b[39mauto\u001b[39m\u001b[39m'\u001b[39m,\n\u001b[1;32m    893\u001b[0m         callbacks\u001b[39m=\u001b[39m\u001b[39mNone\u001b[39;00m, init_model\u001b[39m=\u001b[39m\u001b[39mNone\u001b[39;00m):\n\u001b[1;32m    894\u001b[0m     \u001b[39m\"\"\"Docstring is inherited from the LGBMModel.\"\"\"\u001b[39;00m\n\u001b[0;32m--> 895\u001b[0m     \u001b[39msuper\u001b[39;49m()\u001b[39m.\u001b[39;49mfit(X, y, sample_weight\u001b[39m=\u001b[39;49msample_weight, init_score\u001b[39m=\u001b[39;49minit_score,\n\u001b[1;32m    896\u001b[0m                 eval_set\u001b[39m=\u001b[39;49meval_set, eval_names\u001b[39m=\u001b[39;49meval_names, eval_sample_weight\u001b[39m=\u001b[39;49meval_sample_weight,\n\u001b[1;32m    897\u001b[0m                 eval_init_score\u001b[39m=\u001b[39;49meval_init_score, eval_metric\u001b[39m=\u001b[39;49meval_metric,\n\u001b[1;32m    898\u001b[0m                 early_stopping_rounds\u001b[39m=\u001b[39;49mearly_stopping_rounds, verbose\u001b[39m=\u001b[39;49mverbose, feature_name\u001b[39m=\u001b[39;49mfeature_name,\n\u001b[1;32m    899\u001b[0m                 categorical_feature\u001b[39m=\u001b[39;49mcategorical_feature, callbacks\u001b[39m=\u001b[39;49mcallbacks, init_model\u001b[39m=\u001b[39;49minit_model)\n\u001b[1;32m    900\u001b[0m     \u001b[39mreturn\u001b[39;00m \u001b[39mself\u001b[39m\n",
      "File \u001b[0;32m~/envs/work/lib/python3.10/site-packages/lightgbm/sklearn.py:748\u001b[0m, in \u001b[0;36mLGBMModel.fit\u001b[0;34m(self, X, y, sample_weight, init_score, group, eval_set, eval_names, eval_sample_weight, eval_class_weight, eval_init_score, eval_group, eval_metric, early_stopping_rounds, verbose, feature_name, categorical_feature, callbacks, init_model)\u001b[0m\n\u001b[1;32m    745\u001b[0m evals_result \u001b[39m=\u001b[39m {}\n\u001b[1;32m    746\u001b[0m callbacks\u001b[39m.\u001b[39mappend(record_evaluation(evals_result))\n\u001b[0;32m--> 748\u001b[0m \u001b[39mself\u001b[39m\u001b[39m.\u001b[39m_Booster \u001b[39m=\u001b[39m train(\n\u001b[1;32m    749\u001b[0m     params\u001b[39m=\u001b[39;49mparams,\n\u001b[1;32m    750\u001b[0m     train_set\u001b[39m=\u001b[39;49mtrain_set,\n\u001b[1;32m    751\u001b[0m     num_boost_round\u001b[39m=\u001b[39;49m\u001b[39mself\u001b[39;49m\u001b[39m.\u001b[39;49mn_estimators,\n\u001b[1;32m    752\u001b[0m     valid_sets\u001b[39m=\u001b[39;49mvalid_sets,\n\u001b[1;32m    753\u001b[0m     valid_names\u001b[39m=\u001b[39;49meval_names,\n\u001b[1;32m    754\u001b[0m     fobj\u001b[39m=\u001b[39;49m\u001b[39mself\u001b[39;49m\u001b[39m.\u001b[39;49m_fobj,\n\u001b[1;32m    755\u001b[0m     feval\u001b[39m=\u001b[39;49meval_metrics_callable,\n\u001b[1;32m    756\u001b[0m     init_model\u001b[39m=\u001b[39;49minit_model,\n\u001b[1;32m    757\u001b[0m     feature_name\u001b[39m=\u001b[39;49mfeature_name,\n\u001b[1;32m    758\u001b[0m     callbacks\u001b[39m=\u001b[39;49mcallbacks\n\u001b[1;32m    759\u001b[0m )\n\u001b[1;32m    761\u001b[0m \u001b[39mif\u001b[39;00m evals_result:\n\u001b[1;32m    762\u001b[0m     \u001b[39mself\u001b[39m\u001b[39m.\u001b[39m_evals_result \u001b[39m=\u001b[39m evals_result\n",
      "File \u001b[0;32m~/envs/work/lib/python3.10/site-packages/lightgbm/engine.py:292\u001b[0m, in \u001b[0;36mtrain\u001b[0;34m(params, train_set, num_boost_round, valid_sets, valid_names, fobj, feval, init_model, feature_name, categorical_feature, early_stopping_rounds, evals_result, verbose_eval, learning_rates, keep_training_booster, callbacks)\u001b[0m\n\u001b[1;32m    284\u001b[0m \u001b[39mfor\u001b[39;00m cb \u001b[39min\u001b[39;00m callbacks_before_iter:\n\u001b[1;32m    285\u001b[0m     cb(callback\u001b[39m.\u001b[39mCallbackEnv(model\u001b[39m=\u001b[39mbooster,\n\u001b[1;32m    286\u001b[0m                             params\u001b[39m=\u001b[39mparams,\n\u001b[1;32m    287\u001b[0m                             iteration\u001b[39m=\u001b[39mi,\n\u001b[1;32m    288\u001b[0m                             begin_iteration\u001b[39m=\u001b[39minit_iteration,\n\u001b[1;32m    289\u001b[0m                             end_iteration\u001b[39m=\u001b[39minit_iteration \u001b[39m+\u001b[39m num_boost_round,\n\u001b[1;32m    290\u001b[0m                             evaluation_result_list\u001b[39m=\u001b[39m\u001b[39mNone\u001b[39;00m))\n\u001b[0;32m--> 292\u001b[0m booster\u001b[39m.\u001b[39;49mupdate(fobj\u001b[39m=\u001b[39;49mfobj)\n\u001b[1;32m    294\u001b[0m evaluation_result_list \u001b[39m=\u001b[39m []\n\u001b[1;32m    295\u001b[0m \u001b[39m# check evaluation result.\u001b[39;00m\n",
      "File \u001b[0;32m~/envs/work/lib/python3.10/site-packages/lightgbm/basic.py:3021\u001b[0m, in \u001b[0;36mBooster.update\u001b[0;34m(self, train_set, fobj)\u001b[0m\n\u001b[1;32m   3019\u001b[0m \u001b[39mif\u001b[39;00m \u001b[39mself\u001b[39m\u001b[39m.\u001b[39m__set_objective_to_none:\n\u001b[1;32m   3020\u001b[0m     \u001b[39mraise\u001b[39;00m LightGBMError(\u001b[39m'\u001b[39m\u001b[39mCannot update due to null objective function.\u001b[39m\u001b[39m'\u001b[39m)\n\u001b[0;32m-> 3021\u001b[0m _safe_call(_LIB\u001b[39m.\u001b[39;49mLGBM_BoosterUpdateOneIter(\n\u001b[1;32m   3022\u001b[0m     \u001b[39mself\u001b[39;49m\u001b[39m.\u001b[39;49mhandle,\n\u001b[1;32m   3023\u001b[0m     ctypes\u001b[39m.\u001b[39;49mbyref(is_finished)))\n\u001b[1;32m   3024\u001b[0m \u001b[39mself\u001b[39m\u001b[39m.\u001b[39m__is_predicted_cur_iter \u001b[39m=\u001b[39m [\u001b[39mFalse\u001b[39;00m \u001b[39mfor\u001b[39;00m _ \u001b[39min\u001b[39;00m \u001b[39mrange\u001b[39m(\u001b[39mself\u001b[39m\u001b[39m.\u001b[39m__num_dataset)]\n\u001b[1;32m   3025\u001b[0m \u001b[39mreturn\u001b[39;00m is_finished\u001b[39m.\u001b[39mvalue \u001b[39m==\u001b[39m \u001b[39m1\u001b[39m\n",
      "\u001b[0;31mKeyboardInterrupt\u001b[0m: "
     ]
    }
   ],
   "source": [
    "regressors = {}\n",
    "bad_labels = []\n",
    "for label in LABEL_COLUMNS:\n",
    "    regressor = LGBMRegressor()\n",
    "    # scaler = StandardMemoryScaler()\n",
    "    regressors[label] = regressor#Pipeline(steps=[(\"scaler\",scaler),(\"regressor\", regressor)])\n",
    "    labels = final_feature_labels_df[label]\n",
    "    features = final_feature_labels_df.loc[:,:'31']\n",
    "    X_train, X_test, y_train, y_test = train_test_split(features,\n",
    "                                                        labels,\n",
    "                                                        train_size=0.8)\n",
    "    regressors[label].fit(X_train, y_train)\n",
    "\n",
    "    predictions = regressors[label].predict(X_test)\n",
    "    pearson_r = st.pearsonr(predictions, y_test)\n",
    "    if pearson_r[0] < 0.9:\n",
    "        bad_labels.append(label)\n",
    "    print(f\"correlation for {label} is: {pearson_r[0]:.3f}\")"
   ]
  },
  {
   "cell_type": "code",
   "execution_count": 18,
   "metadata": {},
   "outputs": [
    {
     "data": {
      "text/plain": [
       "['label_15', 'label_16', 'label_18', 'label_19']"
      ]
     },
     "execution_count": 18,
     "metadata": {},
     "output_type": "execute_result"
    }
   ],
   "source": [
    "bad_labels = ['label_15', 'label_16', 'label_18', 'label_19']\n",
    "bad_labels"
   ]
  },
  {
   "cell_type": "code",
   "execution_count": 16,
   "metadata": {},
   "outputs": [
    {
     "ename": "KeyError",
     "evalue": "'label_19'",
     "output_type": "error",
     "traceback": [
      "\u001b[0;31m---------------------------------------------------------------------------\u001b[0m",
      "\u001b[0;31mKeyError\u001b[0m                                  Traceback (most recent call last)",
      "\u001b[1;32m/home/elyalab/Dev/projects/SpartaPipeline/scripts/correction/with_michael.ipynb Cell 19\u001b[0m in \u001b[0;36m3\n\u001b[1;32m      <a href='vscode-notebook-cell:/home/elyalab/Dev/projects/SpartaPipeline/scripts/correction/with_michael.ipynb#X24sZmlsZQ%3D%3D?line=0'>1</a>\u001b[0m selected_label \u001b[39m=\u001b[39m \u001b[39m\"\u001b[39m\u001b[39mlabel_19\u001b[39m\u001b[39m\"\u001b[39m\n\u001b[1;32m      <a href='vscode-notebook-cell:/home/elyalab/Dev/projects/SpartaPipeline/scripts/correction/with_michael.ipynb#X24sZmlsZQ%3D%3D?line=1'>2</a>\u001b[0m labels \u001b[39m=\u001b[39m final_feature_labels_df[selected_label]\n\u001b[0;32m----> <a href='vscode-notebook-cell:/home/elyalab/Dev/projects/SpartaPipeline/scripts/correction/with_michael.ipynb#X24sZmlsZQ%3D%3D?line=2'>3</a>\u001b[0m prediction \u001b[39m=\u001b[39m regressors[selected_label]\u001b[39m.\u001b[39mpredict(final_feature_labels_df\u001b[39m.\u001b[39mloc[:,:\u001b[39m'\u001b[39m\u001b[39m31\u001b[39m\u001b[39m'\u001b[39m])\n\u001b[1;32m      <a href='vscode-notebook-cell:/home/elyalab/Dev/projects/SpartaPipeline/scripts/correction/with_michael.ipynb#X24sZmlsZQ%3D%3D?line=3'>4</a>\u001b[0m original_feature \u001b[39m=\u001b[39m final_feature_labels_df[\u001b[39m\"\u001b[39m\u001b[39m24\u001b[39m\u001b[39m\"\u001b[39m]\n\u001b[1;32m      <a href='vscode-notebook-cell:/home/elyalab/Dev/projects/SpartaPipeline/scripts/correction/with_michael.ipynb#X24sZmlsZQ%3D%3D?line=4'>5</a>\u001b[0m \u001b[39m# plt.scatter(labels, prediction)\u001b[39;00m\n",
      "\u001b[0;31mKeyError\u001b[0m: 'label_19'"
     ]
    }
   ],
   "source": [
    "selected_label = \"label_19\"\n",
    "labels = final_feature_labels_df[selected_label]\n",
    "prediction = regressors[selected_label].predict(final_feature_labels_df.loc[:,:'31'])\n",
    "original_feature = final_feature_labels_df[\"24\"]\n",
    "# plt.scatter(labels, prediction)\n",
    "plt.scatter(original_feature, prediction,\n",
    "            marker='x', label=\"infered\", c=\"blue\")\n",
    "plt.scatter(original_feature, labels,\n",
    "            marker=\"P\", label=\"realigned\", c=\"orange\")\n",
    "plt.legend()\n"
   ]
  },
  {
   "cell_type": "code",
   "execution_count": 17,
   "metadata": {},
   "outputs": [
    {
     "ename": "NameError",
     "evalue": "name 'prediction' is not defined",
     "output_type": "error",
     "traceback": [
      "\u001b[0;31m---------------------------------------------------------------------------\u001b[0m",
      "\u001b[0;31mNameError\u001b[0m                                 Traceback (most recent call last)",
      "\u001b[1;32m/home/elyalab/Dev/projects/SpartaPipeline/scripts/correction/with_michael.ipynb Cell 20\u001b[0m in \u001b[0;36m1\n\u001b[0;32m----> <a href='vscode-notebook-cell:/home/elyalab/Dev/projects/SpartaPipeline/scripts/correction/with_michael.ipynb#X25sZmlsZQ%3D%3D?line=0'>1</a>\u001b[0m pd\u001b[39m.\u001b[39mSeries(np\u001b[39m.\u001b[39mround(prediction))\u001b[39m.\u001b[39mvalue_counts()\n",
      "\u001b[0;31mNameError\u001b[0m: name 'prediction' is not defined"
     ]
    }
   ],
   "source": [
    "pd.Series(np.round(prediction)).value_counts()"
   ]
  },
  {
   "cell_type": "code",
   "execution_count": 19,
   "metadata": {},
   "outputs": [
    {
     "name": "stdout",
     "output_type": "stream",
     "text": [
      "correlation for label_15 is: 0.826\n",
      "correlation for label_16 is: 0.893\n",
      "correlation for label_18 is: 0.792\n",
      "correlation for label_19 is: 0.861\n"
     ]
    }
   ],
   "source": [
    "regressors = {}\n",
    "for label in bad_labels:\n",
    "    labels = final_feature_labels_df[label]\n",
    "    features = final_feature_labels_df.loc[:,:'31']\n",
    "    X_train, X_test, y_train, y_test = train_test_split(features,\n",
    "                                                        labels,\n",
    "                                                        train_size=0.9)\n",
    "    regressor = LGBMRegressor(num_leaves=36, n_estimators=10)\n",
    "    regressor.fit(X_train, y_train)\n",
    "    regressors[label] = regressor\n",
    "    predictions = regressor.predict(X_test)\n",
    "    # print(f\"accuracy for {label} is: {accuracy_score(y_test, predictions)}\")\n",
    "    pearson_r = st.pearsonr(predictions,y_test )\n",
    "    print(f\"correlation for {label} is: {pearson_r[0]:.3f}\")"
   ]
  },
  {
   "cell_type": "code",
   "execution_count": 21,
   "metadata": {},
   "outputs": [
    {
     "name": "stdout",
     "output_type": "stream",
     "text": [
      "{'boosting_type': 'gbdt', 'class_weight': None, 'colsample_bytree': 1.0, 'importance_type': 'split', 'learning_rate': 0.1, 'max_depth': -1, 'min_child_samples': 20, 'min_child_weight': 0.001, 'min_split_gain': 0.0, 'n_estimators': 10, 'n_jobs': -1, 'num_leaves': 36, 'objective': None, 'random_state': None, 'reg_alpha': 0.0, 'reg_lambda': 0.0, 'silent': 'warn', 'subsample': 1.0, 'subsample_for_bin': 200000, 'subsample_freq': 0}\n",
      "{'boosting_type': 'gbdt', 'class_weight': None, 'colsample_bytree': 1.0, 'importance_type': 'split', 'learning_rate': 0.1, 'max_depth': -1, 'min_child_samples': 20, 'min_child_weight': 0.001, 'min_split_gain': 0.0, 'n_estimators': 10, 'n_jobs': -1, 'num_leaves': 36, 'objective': None, 'random_state': None, 'reg_alpha': 0.0, 'reg_lambda': 0.0, 'silent': 'warn', 'subsample': 1.0, 'subsample_for_bin': 200000, 'subsample_freq': 0}\n",
      "{'boosting_type': 'gbdt', 'class_weight': None, 'colsample_bytree': 1.0, 'importance_type': 'split', 'learning_rate': 0.1, 'max_depth': -1, 'min_child_samples': 20, 'min_child_weight': 0.001, 'min_split_gain': 0.0, 'n_estimators': 10, 'n_jobs': -1, 'num_leaves': 36, 'objective': None, 'random_state': None, 'reg_alpha': 0.0, 'reg_lambda': 0.0, 'silent': 'warn', 'subsample': 1.0, 'subsample_for_bin': 200000, 'subsample_freq': 0}\n",
      "{'boosting_type': 'gbdt', 'class_weight': None, 'colsample_bytree': 1.0, 'importance_type': 'split', 'learning_rate': 0.1, 'max_depth': -1, 'min_child_samples': 20, 'min_child_weight': 0.001, 'min_split_gain': 0.0, 'n_estimators': 10, 'n_jobs': -1, 'num_leaves': 36, 'objective': None, 'random_state': None, 'reg_alpha': 0.0, 'reg_lambda': 0.0, 'silent': 'warn', 'subsample': 1.0, 'subsample_for_bin': 200000, 'subsample_freq': 0}\n"
     ]
    }
   ],
   "source": [
    "for reg in regressors.values():\n",
    "    print(reg.get_params())"
   ]
  }
 ],
 "metadata": {
  "kernelspec": {
   "display_name": "Python 3.10.6 ('work')",
   "language": "python",
   "name": "python3"
  },
  "language_info": {
   "codemirror_mode": {
    "name": "ipython",
    "version": 3
   },
   "file_extension": ".py",
   "mimetype": "text/x-python",
   "name": "python",
   "nbconvert_exporter": "python",
   "pygments_lexer": "ipython3",
   "version": "3.10.6"
  },
  "orig_nbformat": 4,
  "vscode": {
   "interpreter": {
    "hash": "116670b2f161a8130f157034528fb6f1b6c34a8fe2503f648b685473f81f6b22"
   }
  }
 },
 "nbformat": 4,
 "nbformat_minor": 2
}
